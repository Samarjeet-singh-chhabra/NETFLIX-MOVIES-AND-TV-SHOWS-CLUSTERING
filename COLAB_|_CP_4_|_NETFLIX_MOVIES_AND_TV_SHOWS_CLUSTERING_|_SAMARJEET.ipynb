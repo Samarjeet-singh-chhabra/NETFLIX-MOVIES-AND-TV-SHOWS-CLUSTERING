{
  "nbformat": 4,
  "nbformat_minor": 0,
  "metadata": {
    "colab": {
      "provenance": [],
      "collapsed_sections": [
        "35m5QtbWiB9F",
        "PoPl-ycgm1ru",
        "nA9Y7ga8ng1Z",
        "PBTbrJXOngz2",
        "u3PMJOP6ngxN",
        "bKJF3rekwFvQ",
        "MSa1f5Uengrz"
      ],
      "include_colab_link": true
    },
    "kernelspec": {
      "name": "python3",
      "display_name": "Python 3"
    },
    "language_info": {
      "name": "python"
    },
    "gpuClass": "standard"
  },
  "cells": [
    {
      "cell_type": "markdown",
      "metadata": {
        "id": "view-in-github",
        "colab_type": "text"
      },
      "source": [
        "<a href=\"https://colab.research.google.com/github/Samarjeet-singh-chhabra/NETFLIX_MOVIES_AND_TV_SHOWS_CLUSTERING/blob/main/COLAB_%7C_CP_4_%7C_NETFLIX_MOVIES_AND_TV_SHOWS_CLUSTERING_%7C_SAMARJEET.ipynb\" target=\"_parent\"><img src=\"https://colab.research.google.com/assets/colab-badge.svg\" alt=\"Open In Colab\"/></a>"
      ]
    },
    {
      "cell_type": "markdown",
      "source": [
        "# **NETFLIX MOVIES AND TV SHOWS CLUSTERING**\n",
        "\n",
        "\n",
        "\n",
        "\n"
      ],
      "metadata": {
        "id": "vncDsAP0Gaoa"
      }
    },
    {
      "cell_type": "markdown",
      "source": [
        "This project involves an analysis of a dataset containing information on movies and TV shows available on Netflix as of 2019. Using unsupervised machine learning techniques, such as clustering algorithms, the project aims to identify patterns and groupings within the data to gain insights into the trends and characteristics of content on Netflix. By exploring the data in this way, the project can provide valuable insights into user preferences and content trends, which can be used to improve the user experience and drive business growth. The project is designed to be a standalone analysis of the Netflix dataset and can serve as a foundation for future research in the field of content analysis and unsupervised machine learning.\n"
      ],
      "metadata": {
        "id": "I07UnD5mitM2"
      }
    },
    {
      "cell_type": "markdown",
      "source": [
        "##### **Project Type**    - Unsupervised ML\n"
      ],
      "metadata": {
        "id": "TeOoVzU8yeOo"
      }
    },
    {
      "cell_type": "markdown",
      "source": [
        "## **Team Spaceneedle**"
      ],
      "metadata": {
        "id": "pkl91xE7yg2J"
      }
    },
    {
      "cell_type": "markdown",
      "source": [
        "\n",
        "##### **Team Member 1 -**Devarshi Dwivedi\n",
        "##### **Team Member 2 -**Jay Pardeshi\n",
        "##### **Team Member 3 -**Priyadarshini Gaikwad\n",
        "##### **Team Member 4 -**Samarjeet Singh"
      ],
      "metadata": {
        "id": "beRrZCGUAJYm"
      }
    },
    {
      "cell_type": "markdown",
      "source": [
        "# **UNDERSTANDING BUSINESS PROBLEM**"
      ],
      "metadata": {
        "id": "5ziztuZTi8re"
      }
    },
    {
      "cell_type": "markdown",
      "source": [
        "The business problem at the heart of this unsupervised machine learning project is to gain insights into the trends and patterns of content on Netflix, and to use those insights to improve the user experience and drive business growth. The challenge for Netflix is to make sense of the vast amount of content in their library and to provide their users with a personalized and engaging viewing experience. By applying unsupervised machine learning techniques such as clustering to the dataset, the company can identify meaningful patterns and groupings within the data, which can then be used to inform decisions about content creation, marketing, and user interface design. For instance, Netflix can use these insights to promote new releases to users who have previously watched similar titles or to recommend content to users who have shown a preference for certain genres. Ultimately, by leveraging the power of unsupervised machine learning, Netflix can gain a deeper understanding of their content library and their users' preferences, and use this knowledge to drive business growth and customer satisfaction."
      ],
      "metadata": {
        "id": "lsaQ4xYtjBZa"
      }
    },
    {
      "cell_type": "markdown",
      "source": [
        "# **PROJECT SUMMARY**"
      ],
      "metadata": {
        "id": "FJNUwmbgGyua"
      }
    },
    {
      "cell_type": "markdown",
      "source": [
        "Netflix, Inc. is an American subscription video on-demand over-the-top streaming service and production company based in Los Gatos, California. Founded in 1997 by Reed Hastings and Marc Randolph in Scotts Valley, California, it offers a film and television series library through distribution deals as well as its own productions, known as Netflix Originals.\n",
        "\n",
        "For further details, visit [Netflix Help Center](https://help.netflix.com/en/node/412)\n",
        "\n",
        "We will be exploring the dataset further to draw insights."
      ],
      "metadata": {
        "id": "F6v_1wHtG2nS"
      }
    },
    {
      "cell_type": "markdown",
      "source": [
        "# **PROBLEM STATEMENT**\n"
      ],
      "metadata": {
        "id": "yQaldy8SH6Dl"
      }
    },
    {
      "cell_type": "markdown",
      "source": [
        "This dataset consists of tv shows and movies available on Netflix as of 2019. The dataset is collected from Flixable which is a third-party Netflix search engine.\n",
        "\n",
        "In 2018, they released an interesting report which shows that the number of TV shows on Netflix has nearly tripled since 2010. The streaming service’s number of movies has decreased by more than 2,000 titles since 2010, while its number of TV shows has nearly tripled. It will be interesting to explore what all other insights can be obtained from the same dataset.\n",
        "\n",
        "Integrating this dataset with other external datasets such as IMDB ratings, rotten tomatoes can also provide many interesting findings."
      ],
      "metadata": {
        "id": "DpeJGUA3kjGy"
      }
    },
    {
      "cell_type": "markdown",
      "source": [
        "# **TASKS TO PERFORM**"
      ],
      "metadata": {
        "id": "Ua5ClmijwAhW"
      }
    },
    {
      "cell_type": "markdown",
      "source": [
        "1. Exploratory Data Analysis\n",
        "\n",
        "2. Understanding what type content is available in different countries\n",
        "\n",
        "3. Is Netflix has increasingly focusing on TV rather than movies in recent years.\n",
        "\n",
        "4. Clustering similar content by matching text-based features\n",
        "\n"
      ],
      "metadata": {
        "id": "hZn2UxhrwNqJ"
      }
    },
    {
      "cell_type": "markdown",
      "source": [
        "# **DATASET DESCRIPTION**\n"
      ],
      "metadata": {
        "id": "EGrwzLXIz22y"
      }
    },
    {
      "cell_type": "markdown",
      "source": [
        "* show_id : Unique ID for every Movie / Tv Show\n",
        "\n",
        "* type : Identifier - A Movie or TV Show\n",
        "\n",
        "* title : Title of the Movie / Tv Show\n",
        "\n",
        "* director : Director of the Movie\n",
        "\n",
        "* cast : Actors involved in the movie / show\n",
        "\n",
        "* country : Country where the movie / show was produced\n",
        "\n",
        "* date_added : Date it was added on Netflix\n",
        "\n",
        "* release_year : Actual Releaseyear of the movie / show\n",
        "\n",
        "* rating : TV Rating of the movie / show\n",
        "\n",
        "* duration : Total Duration - in minutes or number of seasons\n",
        "\n",
        "* listed_in : Genere\n",
        "\n",
        "* description: The Summary description"
      ],
      "metadata": {
        "id": "xHUWefOS0A9B"
      }
    },
    {
      "cell_type": "markdown",
      "metadata": {
        "id": "QsNwpSi2CEzE"
      },
      "source": [
        "# **INITIALIZING**"
      ]
    },
    {
      "cell_type": "markdown",
      "metadata": {
        "id": "ovgJFYjeDI07"
      },
      "source": [
        "## Importing Libraries and Modules."
      ]
    },
    {
      "cell_type": "code",
      "execution_count": 1,
      "metadata": {
        "id": "ttD0Ftk_DQ0_",
        "colab": {
          "base_uri": "https://localhost:8080/"
        },
        "outputId": "2ee1c52c-2747-4c1b-f567-eec03967df4b"
      },
      "outputs": [
        {
          "output_type": "stream",
          "name": "stderr",
          "text": [
            "[nltk_data] Downloading package punkt to /root/nltk_data...\n",
            "[nltk_data]   Unzipping tokenizers/punkt.zip.\n",
            "[nltk_data] Downloading package stopwords to /root/nltk_data...\n",
            "[nltk_data]   Unzipping corpora/stopwords.zip.\n",
            "[nltk_data] Downloading package stopwords to /root/nltk_data...\n",
            "[nltk_data]   Package stopwords is already up-to-date!\n"
          ]
        }
      ],
      "source": [
        "import pandas as pd\n",
        "\n",
        "import numpy as np\n",
        "from numpy import math\n",
        "\n",
        "import matplotlib.pyplot as plt\n",
        "%matplotlib inline\n",
        "\n",
        "import seaborn as sns\n",
        "\n",
        "from datetime import datetime\n",
        "import datetime as dt\n",
        "\n",
        "from sklearn.preprocessing import MinMaxScaler, OneHotEncoder, MultiLabelBinarizer, StandardScaler, PolynomialFeatures\n",
        "\n",
        "from sklearn.linear_model import LinearRegression, Lasso, Ridge, ElasticNet\n",
        "\n",
        "from sklearn.tree import DecisionTreeRegressor\n",
        "\n",
        "from sklearn.ensemble import RandomForestRegressor, GradientBoostingRegressor\n",
        "\n",
        "from sklearn.model_selection import cross_validate, train_test_split, GridSearchCV, cross_val_score, RepeatedStratifiedKFold, RandomizedSearchCV\n",
        "\n",
        "from sklearn import metrics\n",
        "\n",
        "from sklearn.metrics import r2_score, log_loss, mean_squared_error, accuracy_score, mean_absolute_error\n",
        "\n",
        "from sklearn.pipeline import make_pipeline\n",
        "\n",
        "from scipy.stats import skew\n",
        "\n",
        "pd.options.mode.chained_assignment = None  # default='warn'\n",
        "\n",
        "from patsy import dmatrices\n",
        "import statsmodels.api as sm\n",
        "from statsmodels.stats.outliers_influence import variance_inflation_factor\n",
        "\n",
        "import re\n",
        "from nltk.corpus import stopwords\n",
        "from nltk.tokenize import word_tokenize\n",
        "from nltk.corpus import stopwords\n",
        "from string import punctuation\n",
        "from collections import Counter\n",
        "import nltk\n",
        "nltk.download('punkt')\n",
        "nltk.download('stopwords')\n",
        "from sklearn.cluster import KMeans\n",
        "from sklearn.metrics import silhouette_score\n",
        "from sklearn.feature_extraction.text import TfidfVectorizer\n",
        "from sklearn import metrics\n",
        "\n",
        "# Word Cloud library\n",
        "from wordcloud import WordCloud, STOPWORDS\n",
        "\n",
        "# library used for textual data prerocessing\n",
        "import string\n",
        "string.punctuation\n",
        "import nltk\n",
        "from nltk.corpus import stopwords\n",
        "nltk.download('stopwords')\n",
        "from nltk.stem.snowball import SnowballStemmer\n",
        "from sklearn.feature_extraction.text import CountVectorizer\n",
        "from sklearn.feature_extraction.text import TfidfVectorizer\n",
        "from sklearn.decomposition import PCA\n",
        "\n",
        "# library used for Clusters impelementation\n",
        "from sklearn.cluster import KMeans\n",
        "from sklearn.metrics import silhouette_score\n",
        "from sklearn.cluster import AgglomerativeClustering\n",
        "import scipy.cluster.hierarchy as shc\n",
        "\n",
        "from sklearn.feature_extraction.text import TfidfVectorizer\n",
        "from sklearn.metrics.pairwise import cosine_similarity\n",
        "\n",
        "import warnings\n",
        "warnings.filterwarnings('ignore')"
      ]
    },
    {
      "cell_type": "markdown",
      "metadata": {
        "id": "piHto1beCW01"
      },
      "source": [
        "## Adding Dataset."
      ]
    },
    {
      "cell_type": "code",
      "execution_count": 2,
      "metadata": {
        "id": "jjDPo5XV13_C"
      },
      "outputs": [],
      "source": [
        "# Adding Data set throught link.\n",
        "url = \"https://drive.google.com/file/d/1raIr2HPG_aI-fbu7qk_rRRTPczpl7Fvh/view?usp=share_link\"\n",
        "url='https://drive.google.com/uc?id=' + url.split('/')[-2]\n",
        "\n",
        "# Naming our dataset\n",
        "orignal_df =  pd.read_csv(url,  encoding= 'unicode_escape')\n"
      ]
    },
    {
      "cell_type": "code",
      "execution_count": 3,
      "metadata": {
        "id": "MS2k7dhgH3qq"
      },
      "outputs": [],
      "source": [
        "# Creating a copy, for working on it without harming the orignal dataset.\n",
        "df = orignal_df.copy()\n"
      ]
    },
    {
      "cell_type": "markdown",
      "metadata": {
        "id": "ikjJ8Cy-pP0H"
      },
      "source": [
        "# **DATA OVERVIEW**"
      ]
    },
    {
      "cell_type": "code",
      "execution_count": 4,
      "metadata": {
        "colab": {
          "base_uri": "https://localhost:8080/",
          "height": 0
        },
        "id": "yV-GBQOuJfe_",
        "outputId": "9e7ffe18-f549-44be-9bc8-e46815b1bdcb"
      },
      "outputs": [
        {
          "output_type": "execute_result",
          "data": {
            "text/plain": [
              "  show_id     type  title           director  \\\n",
              "0      s1  TV Show     3%                NaN   \n",
              "1      s2    Movie   7:19  Jorge Michel Grau   \n",
              "2      s3    Movie  23:59       Gilbert Chan   \n",
              "3      s4    Movie      9        Shane Acker   \n",
              "4      s5    Movie     21     Robert Luketic   \n",
              "\n",
              "                                                cast        country  \\\n",
              "0  JoÃ£o Miguel, Bianca Comparato, Michel Gomes, ...         Brazil   \n",
              "1  DemiÃ¡n Bichir, HÃ©ctor Bonilla, Oscar Serrano...         Mexico   \n",
              "2  Tedd Chan, Stella Chung, Henley Hii, Lawrence ...      Singapore   \n",
              "3  Elijah Wood, John C. Reilly, Jennifer Connelly...  United States   \n",
              "4  Jim Sturgess, Kevin Spacey, Kate Bosworth, Aar...  United States   \n",
              "\n",
              "          date_added  release_year rating   duration  \\\n",
              "0    August 14, 2020          2020  TV-MA  4 Seasons   \n",
              "1  December 23, 2016          2016  TV-MA     93 min   \n",
              "2  December 20, 2018          2011      R     78 min   \n",
              "3  November 16, 2017          2009  PG-13     80 min   \n",
              "4    January 1, 2020          2008  PG-13    123 min   \n",
              "\n",
              "                                           listed_in  \\\n",
              "0  International TV Shows, TV Dramas, TV Sci-Fi &...   \n",
              "1                       Dramas, International Movies   \n",
              "2                Horror Movies, International Movies   \n",
              "3  Action & Adventure, Independent Movies, Sci-Fi...   \n",
              "4                                             Dramas   \n",
              "\n",
              "                                         description  \n",
              "0  In a future where the elite inhabit an island ...  \n",
              "1  After a devastating earthquake hits Mexico Cit...  \n",
              "2  When an army recruit is found dead, his fellow...  \n",
              "3  In a postapocalyptic world, rag-doll robots hi...  \n",
              "4  A brilliant group of students become card-coun...  "
            ],
            "text/html": [
              "\n",
              "  <div id=\"df-6d06138c-ea68-41e7-b4de-6004795937a0\">\n",
              "    <div class=\"colab-df-container\">\n",
              "      <div>\n",
              "<style scoped>\n",
              "    .dataframe tbody tr th:only-of-type {\n",
              "        vertical-align: middle;\n",
              "    }\n",
              "\n",
              "    .dataframe tbody tr th {\n",
              "        vertical-align: top;\n",
              "    }\n",
              "\n",
              "    .dataframe thead th {\n",
              "        text-align: right;\n",
              "    }\n",
              "</style>\n",
              "<table border=\"1\" class=\"dataframe\">\n",
              "  <thead>\n",
              "    <tr style=\"text-align: right;\">\n",
              "      <th></th>\n",
              "      <th>show_id</th>\n",
              "      <th>type</th>\n",
              "      <th>title</th>\n",
              "      <th>director</th>\n",
              "      <th>cast</th>\n",
              "      <th>country</th>\n",
              "      <th>date_added</th>\n",
              "      <th>release_year</th>\n",
              "      <th>rating</th>\n",
              "      <th>duration</th>\n",
              "      <th>listed_in</th>\n",
              "      <th>description</th>\n",
              "    </tr>\n",
              "  </thead>\n",
              "  <tbody>\n",
              "    <tr>\n",
              "      <th>0</th>\n",
              "      <td>s1</td>\n",
              "      <td>TV Show</td>\n",
              "      <td>3%</td>\n",
              "      <td>NaN</td>\n",
              "      <td>JoÃ£o Miguel, Bianca Comparato, Michel Gomes, ...</td>\n",
              "      <td>Brazil</td>\n",
              "      <td>August 14, 2020</td>\n",
              "      <td>2020</td>\n",
              "      <td>TV-MA</td>\n",
              "      <td>4 Seasons</td>\n",
              "      <td>International TV Shows, TV Dramas, TV Sci-Fi &amp;...</td>\n",
              "      <td>In a future where the elite inhabit an island ...</td>\n",
              "    </tr>\n",
              "    <tr>\n",
              "      <th>1</th>\n",
              "      <td>s2</td>\n",
              "      <td>Movie</td>\n",
              "      <td>7:19</td>\n",
              "      <td>Jorge Michel Grau</td>\n",
              "      <td>DemiÃ¡n Bichir, HÃ©ctor Bonilla, Oscar Serrano...</td>\n",
              "      <td>Mexico</td>\n",
              "      <td>December 23, 2016</td>\n",
              "      <td>2016</td>\n",
              "      <td>TV-MA</td>\n",
              "      <td>93 min</td>\n",
              "      <td>Dramas, International Movies</td>\n",
              "      <td>After a devastating earthquake hits Mexico Cit...</td>\n",
              "    </tr>\n",
              "    <tr>\n",
              "      <th>2</th>\n",
              "      <td>s3</td>\n",
              "      <td>Movie</td>\n",
              "      <td>23:59</td>\n",
              "      <td>Gilbert Chan</td>\n",
              "      <td>Tedd Chan, Stella Chung, Henley Hii, Lawrence ...</td>\n",
              "      <td>Singapore</td>\n",
              "      <td>December 20, 2018</td>\n",
              "      <td>2011</td>\n",
              "      <td>R</td>\n",
              "      <td>78 min</td>\n",
              "      <td>Horror Movies, International Movies</td>\n",
              "      <td>When an army recruit is found dead, his fellow...</td>\n",
              "    </tr>\n",
              "    <tr>\n",
              "      <th>3</th>\n",
              "      <td>s4</td>\n",
              "      <td>Movie</td>\n",
              "      <td>9</td>\n",
              "      <td>Shane Acker</td>\n",
              "      <td>Elijah Wood, John C. Reilly, Jennifer Connelly...</td>\n",
              "      <td>United States</td>\n",
              "      <td>November 16, 2017</td>\n",
              "      <td>2009</td>\n",
              "      <td>PG-13</td>\n",
              "      <td>80 min</td>\n",
              "      <td>Action &amp; Adventure, Independent Movies, Sci-Fi...</td>\n",
              "      <td>In a postapocalyptic world, rag-doll robots hi...</td>\n",
              "    </tr>\n",
              "    <tr>\n",
              "      <th>4</th>\n",
              "      <td>s5</td>\n",
              "      <td>Movie</td>\n",
              "      <td>21</td>\n",
              "      <td>Robert Luketic</td>\n",
              "      <td>Jim Sturgess, Kevin Spacey, Kate Bosworth, Aar...</td>\n",
              "      <td>United States</td>\n",
              "      <td>January 1, 2020</td>\n",
              "      <td>2008</td>\n",
              "      <td>PG-13</td>\n",
              "      <td>123 min</td>\n",
              "      <td>Dramas</td>\n",
              "      <td>A brilliant group of students become card-coun...</td>\n",
              "    </tr>\n",
              "  </tbody>\n",
              "</table>\n",
              "</div>\n",
              "      <button class=\"colab-df-convert\" onclick=\"convertToInteractive('df-6d06138c-ea68-41e7-b4de-6004795937a0')\"\n",
              "              title=\"Convert this dataframe to an interactive table.\"\n",
              "              style=\"display:none;\">\n",
              "        \n",
              "  <svg xmlns=\"http://www.w3.org/2000/svg\" height=\"24px\"viewBox=\"0 0 24 24\"\n",
              "       width=\"24px\">\n",
              "    <path d=\"M0 0h24v24H0V0z\" fill=\"none\"/>\n",
              "    <path d=\"M18.56 5.44l.94 2.06.94-2.06 2.06-.94-2.06-.94-.94-2.06-.94 2.06-2.06.94zm-11 1L8.5 8.5l.94-2.06 2.06-.94-2.06-.94L8.5 2.5l-.94 2.06-2.06.94zm10 10l.94 2.06.94-2.06 2.06-.94-2.06-.94-.94-2.06-.94 2.06-2.06.94z\"/><path d=\"M17.41 7.96l-1.37-1.37c-.4-.4-.92-.59-1.43-.59-.52 0-1.04.2-1.43.59L10.3 9.45l-7.72 7.72c-.78.78-.78 2.05 0 2.83L4 21.41c.39.39.9.59 1.41.59.51 0 1.02-.2 1.41-.59l7.78-7.78 2.81-2.81c.8-.78.8-2.07 0-2.86zM5.41 20L4 18.59l7.72-7.72 1.47 1.35L5.41 20z\"/>\n",
              "  </svg>\n",
              "      </button>\n",
              "      \n",
              "  <style>\n",
              "    .colab-df-container {\n",
              "      display:flex;\n",
              "      flex-wrap:wrap;\n",
              "      gap: 12px;\n",
              "    }\n",
              "\n",
              "    .colab-df-convert {\n",
              "      background-color: #E8F0FE;\n",
              "      border: none;\n",
              "      border-radius: 50%;\n",
              "      cursor: pointer;\n",
              "      display: none;\n",
              "      fill: #1967D2;\n",
              "      height: 32px;\n",
              "      padding: 0 0 0 0;\n",
              "      width: 32px;\n",
              "    }\n",
              "\n",
              "    .colab-df-convert:hover {\n",
              "      background-color: #E2EBFA;\n",
              "      box-shadow: 0px 1px 2px rgba(60, 64, 67, 0.3), 0px 1px 3px 1px rgba(60, 64, 67, 0.15);\n",
              "      fill: #174EA6;\n",
              "    }\n",
              "\n",
              "    [theme=dark] .colab-df-convert {\n",
              "      background-color: #3B4455;\n",
              "      fill: #D2E3FC;\n",
              "    }\n",
              "\n",
              "    [theme=dark] .colab-df-convert:hover {\n",
              "      background-color: #434B5C;\n",
              "      box-shadow: 0px 1px 3px 1px rgba(0, 0, 0, 0.15);\n",
              "      filter: drop-shadow(0px 1px 2px rgba(0, 0, 0, 0.3));\n",
              "      fill: #FFFFFF;\n",
              "    }\n",
              "  </style>\n",
              "\n",
              "      <script>\n",
              "        const buttonEl =\n",
              "          document.querySelector('#df-6d06138c-ea68-41e7-b4de-6004795937a0 button.colab-df-convert');\n",
              "        buttonEl.style.display =\n",
              "          google.colab.kernel.accessAllowed ? 'block' : 'none';\n",
              "\n",
              "        async function convertToInteractive(key) {\n",
              "          const element = document.querySelector('#df-6d06138c-ea68-41e7-b4de-6004795937a0');\n",
              "          const dataTable =\n",
              "            await google.colab.kernel.invokeFunction('convertToInteractive',\n",
              "                                                     [key], {});\n",
              "          if (!dataTable) return;\n",
              "\n",
              "          const docLinkHtml = 'Like what you see? Visit the ' +\n",
              "            '<a target=\"_blank\" href=https://colab.research.google.com/notebooks/data_table.ipynb>data table notebook</a>'\n",
              "            + ' to learn more about interactive tables.';\n",
              "          element.innerHTML = '';\n",
              "          dataTable['output_type'] = 'display_data';\n",
              "          await google.colab.output.renderOutput(dataTable, element);\n",
              "          const docLink = document.createElement('div');\n",
              "          docLink.innerHTML = docLinkHtml;\n",
              "          element.appendChild(docLink);\n",
              "        }\n",
              "      </script>\n",
              "    </div>\n",
              "  </div>\n",
              "  "
            ]
          },
          "metadata": {},
          "execution_count": 4
        }
      ],
      "source": [
        "# checking top 5 Rows or instances.\n",
        "df.head()"
      ]
    },
    {
      "cell_type": "code",
      "execution_count": 5,
      "metadata": {
        "colab": {
          "base_uri": "https://localhost:8080/",
          "height": 0
        },
        "id": "qOVBpLFQJklt",
        "outputId": "3adee987-bbbf-4f3e-fbd4-f36bbfe44776"
      },
      "outputs": [
        {
          "output_type": "execute_result",
          "data": {
            "text/plain": [
              "     show_id     type                                    title     director  \\\n",
              "7782   s7783    Movie                                     Zozo  Josef Fares   \n",
              "7783   s7784    Movie                                   Zubaan  Mozez Singh   \n",
              "7784   s7785    Movie                        Zulu Man in Japan          NaN   \n",
              "7785   s7786  TV Show                    Zumbo's Just Desserts          NaN   \n",
              "7786   s7787    Movie  ZZ TOP: THAT LITTLE OL' BAND FROM TEXAS     Sam Dunn   \n",
              "\n",
              "                                                   cast  \\\n",
              "7782  Imad Creidi, Antoinette Turk, Elias Gergi, Car...   \n",
              "7783  Vicky Kaushal, Sarah-Jane Dias, Raaghav Chanan...   \n",
              "7784                                            Nasty C   \n",
              "7785                         Adriano Zumbo, Rachel Khoo   \n",
              "7786                                                NaN   \n",
              "\n",
              "                                                country          date_added  \\\n",
              "7782  Sweden, Czech Republic, United Kingdom, Denmar...    October 19, 2020   \n",
              "7783                                              India       March 2, 2019   \n",
              "7784                                                NaN  September 25, 2020   \n",
              "7785                                          Australia    October 31, 2020   \n",
              "7786              United Kingdom, Canada, United States       March 1, 2020   \n",
              "\n",
              "      release_year rating  duration  \\\n",
              "7782          2005  TV-MA    99 min   \n",
              "7783          2015  TV-14   111 min   \n",
              "7784          2019  TV-MA    44 min   \n",
              "7785          2019  TV-PG  1 Season   \n",
              "7786          2019  TV-MA    90 min   \n",
              "\n",
              "                                              listed_in  \\\n",
              "7782                       Dramas, International Movies   \n",
              "7783     Dramas, International Movies, Music & Musicals   \n",
              "7784  Documentaries, International Movies, Music & M...   \n",
              "7785                 International TV Shows, Reality TV   \n",
              "7786                    Documentaries, Music & Musicals   \n",
              "\n",
              "                                            description  \n",
              "7782  When Lebanon's Civil War deprives Zozo of his ...  \n",
              "7783  A scrappy but poor boy worms his way into a ty...  \n",
              "7784  In this documentary, South African rapper Nast...  \n",
              "7785  Dessert wizard Adriano Zumbo looks for the nex...  \n",
              "7786  This documentary delves into the mystique behi...  "
            ],
            "text/html": [
              "\n",
              "  <div id=\"df-5393363e-b6a3-4d7c-8c48-8e7be93cb238\">\n",
              "    <div class=\"colab-df-container\">\n",
              "      <div>\n",
              "<style scoped>\n",
              "    .dataframe tbody tr th:only-of-type {\n",
              "        vertical-align: middle;\n",
              "    }\n",
              "\n",
              "    .dataframe tbody tr th {\n",
              "        vertical-align: top;\n",
              "    }\n",
              "\n",
              "    .dataframe thead th {\n",
              "        text-align: right;\n",
              "    }\n",
              "</style>\n",
              "<table border=\"1\" class=\"dataframe\">\n",
              "  <thead>\n",
              "    <tr style=\"text-align: right;\">\n",
              "      <th></th>\n",
              "      <th>show_id</th>\n",
              "      <th>type</th>\n",
              "      <th>title</th>\n",
              "      <th>director</th>\n",
              "      <th>cast</th>\n",
              "      <th>country</th>\n",
              "      <th>date_added</th>\n",
              "      <th>release_year</th>\n",
              "      <th>rating</th>\n",
              "      <th>duration</th>\n",
              "      <th>listed_in</th>\n",
              "      <th>description</th>\n",
              "    </tr>\n",
              "  </thead>\n",
              "  <tbody>\n",
              "    <tr>\n",
              "      <th>7782</th>\n",
              "      <td>s7783</td>\n",
              "      <td>Movie</td>\n",
              "      <td>Zozo</td>\n",
              "      <td>Josef Fares</td>\n",
              "      <td>Imad Creidi, Antoinette Turk, Elias Gergi, Car...</td>\n",
              "      <td>Sweden, Czech Republic, United Kingdom, Denmar...</td>\n",
              "      <td>October 19, 2020</td>\n",
              "      <td>2005</td>\n",
              "      <td>TV-MA</td>\n",
              "      <td>99 min</td>\n",
              "      <td>Dramas, International Movies</td>\n",
              "      <td>When Lebanon's Civil War deprives Zozo of his ...</td>\n",
              "    </tr>\n",
              "    <tr>\n",
              "      <th>7783</th>\n",
              "      <td>s7784</td>\n",
              "      <td>Movie</td>\n",
              "      <td>Zubaan</td>\n",
              "      <td>Mozez Singh</td>\n",
              "      <td>Vicky Kaushal, Sarah-Jane Dias, Raaghav Chanan...</td>\n",
              "      <td>India</td>\n",
              "      <td>March 2, 2019</td>\n",
              "      <td>2015</td>\n",
              "      <td>TV-14</td>\n",
              "      <td>111 min</td>\n",
              "      <td>Dramas, International Movies, Music &amp; Musicals</td>\n",
              "      <td>A scrappy but poor boy worms his way into a ty...</td>\n",
              "    </tr>\n",
              "    <tr>\n",
              "      <th>7784</th>\n",
              "      <td>s7785</td>\n",
              "      <td>Movie</td>\n",
              "      <td>Zulu Man in Japan</td>\n",
              "      <td>NaN</td>\n",
              "      <td>Nasty C</td>\n",
              "      <td>NaN</td>\n",
              "      <td>September 25, 2020</td>\n",
              "      <td>2019</td>\n",
              "      <td>TV-MA</td>\n",
              "      <td>44 min</td>\n",
              "      <td>Documentaries, International Movies, Music &amp; M...</td>\n",
              "      <td>In this documentary, South African rapper Nast...</td>\n",
              "    </tr>\n",
              "    <tr>\n",
              "      <th>7785</th>\n",
              "      <td>s7786</td>\n",
              "      <td>TV Show</td>\n",
              "      <td>Zumbo's Just Desserts</td>\n",
              "      <td>NaN</td>\n",
              "      <td>Adriano Zumbo, Rachel Khoo</td>\n",
              "      <td>Australia</td>\n",
              "      <td>October 31, 2020</td>\n",
              "      <td>2019</td>\n",
              "      <td>TV-PG</td>\n",
              "      <td>1 Season</td>\n",
              "      <td>International TV Shows, Reality TV</td>\n",
              "      <td>Dessert wizard Adriano Zumbo looks for the nex...</td>\n",
              "    </tr>\n",
              "    <tr>\n",
              "      <th>7786</th>\n",
              "      <td>s7787</td>\n",
              "      <td>Movie</td>\n",
              "      <td>ZZ TOP: THAT LITTLE OL' BAND FROM TEXAS</td>\n",
              "      <td>Sam Dunn</td>\n",
              "      <td>NaN</td>\n",
              "      <td>United Kingdom, Canada, United States</td>\n",
              "      <td>March 1, 2020</td>\n",
              "      <td>2019</td>\n",
              "      <td>TV-MA</td>\n",
              "      <td>90 min</td>\n",
              "      <td>Documentaries, Music &amp; Musicals</td>\n",
              "      <td>This documentary delves into the mystique behi...</td>\n",
              "    </tr>\n",
              "  </tbody>\n",
              "</table>\n",
              "</div>\n",
              "      <button class=\"colab-df-convert\" onclick=\"convertToInteractive('df-5393363e-b6a3-4d7c-8c48-8e7be93cb238')\"\n",
              "              title=\"Convert this dataframe to an interactive table.\"\n",
              "              style=\"display:none;\">\n",
              "        \n",
              "  <svg xmlns=\"http://www.w3.org/2000/svg\" height=\"24px\"viewBox=\"0 0 24 24\"\n",
              "       width=\"24px\">\n",
              "    <path d=\"M0 0h24v24H0V0z\" fill=\"none\"/>\n",
              "    <path d=\"M18.56 5.44l.94 2.06.94-2.06 2.06-.94-2.06-.94-.94-2.06-.94 2.06-2.06.94zm-11 1L8.5 8.5l.94-2.06 2.06-.94-2.06-.94L8.5 2.5l-.94 2.06-2.06.94zm10 10l.94 2.06.94-2.06 2.06-.94-2.06-.94-.94-2.06-.94 2.06-2.06.94z\"/><path d=\"M17.41 7.96l-1.37-1.37c-.4-.4-.92-.59-1.43-.59-.52 0-1.04.2-1.43.59L10.3 9.45l-7.72 7.72c-.78.78-.78 2.05 0 2.83L4 21.41c.39.39.9.59 1.41.59.51 0 1.02-.2 1.41-.59l7.78-7.78 2.81-2.81c.8-.78.8-2.07 0-2.86zM5.41 20L4 18.59l7.72-7.72 1.47 1.35L5.41 20z\"/>\n",
              "  </svg>\n",
              "      </button>\n",
              "      \n",
              "  <style>\n",
              "    .colab-df-container {\n",
              "      display:flex;\n",
              "      flex-wrap:wrap;\n",
              "      gap: 12px;\n",
              "    }\n",
              "\n",
              "    .colab-df-convert {\n",
              "      background-color: #E8F0FE;\n",
              "      border: none;\n",
              "      border-radius: 50%;\n",
              "      cursor: pointer;\n",
              "      display: none;\n",
              "      fill: #1967D2;\n",
              "      height: 32px;\n",
              "      padding: 0 0 0 0;\n",
              "      width: 32px;\n",
              "    }\n",
              "\n",
              "    .colab-df-convert:hover {\n",
              "      background-color: #E2EBFA;\n",
              "      box-shadow: 0px 1px 2px rgba(60, 64, 67, 0.3), 0px 1px 3px 1px rgba(60, 64, 67, 0.15);\n",
              "      fill: #174EA6;\n",
              "    }\n",
              "\n",
              "    [theme=dark] .colab-df-convert {\n",
              "      background-color: #3B4455;\n",
              "      fill: #D2E3FC;\n",
              "    }\n",
              "\n",
              "    [theme=dark] .colab-df-convert:hover {\n",
              "      background-color: #434B5C;\n",
              "      box-shadow: 0px 1px 3px 1px rgba(0, 0, 0, 0.15);\n",
              "      filter: drop-shadow(0px 1px 2px rgba(0, 0, 0, 0.3));\n",
              "      fill: #FFFFFF;\n",
              "    }\n",
              "  </style>\n",
              "\n",
              "      <script>\n",
              "        const buttonEl =\n",
              "          document.querySelector('#df-5393363e-b6a3-4d7c-8c48-8e7be93cb238 button.colab-df-convert');\n",
              "        buttonEl.style.display =\n",
              "          google.colab.kernel.accessAllowed ? 'block' : 'none';\n",
              "\n",
              "        async function convertToInteractive(key) {\n",
              "          const element = document.querySelector('#df-5393363e-b6a3-4d7c-8c48-8e7be93cb238');\n",
              "          const dataTable =\n",
              "            await google.colab.kernel.invokeFunction('convertToInteractive',\n",
              "                                                     [key], {});\n",
              "          if (!dataTable) return;\n",
              "\n",
              "          const docLinkHtml = 'Like what you see? Visit the ' +\n",
              "            '<a target=\"_blank\" href=https://colab.research.google.com/notebooks/data_table.ipynb>data table notebook</a>'\n",
              "            + ' to learn more about interactive tables.';\n",
              "          element.innerHTML = '';\n",
              "          dataTable['output_type'] = 'display_data';\n",
              "          await google.colab.output.renderOutput(dataTable, element);\n",
              "          const docLink = document.createElement('div');\n",
              "          docLink.innerHTML = docLinkHtml;\n",
              "          element.appendChild(docLink);\n",
              "        }\n",
              "      </script>\n",
              "    </div>\n",
              "  </div>\n",
              "  "
            ]
          },
          "metadata": {},
          "execution_count": 5
        }
      ],
      "source": [
        "# checking last 5 Rows or instances.\n",
        "df.tail()      "
      ]
    },
    {
      "cell_type": "code",
      "execution_count": 6,
      "metadata": {
        "colab": {
          "base_uri": "https://localhost:8080/"
        },
        "id": "_edLq7LuKGTk",
        "outputId": "35e9f2bf-655a-45d1-effd-f67cd695bdfe"
      },
      "outputs": [
        {
          "output_type": "execute_result",
          "data": {
            "text/plain": [
              "(7787, 12)"
            ]
          },
          "metadata": {},
          "execution_count": 6
        }
      ],
      "source": [
        "# checking total rows and columns ( Rows, Columns).\n",
        "df.shape"
      ]
    },
    {
      "cell_type": "code",
      "execution_count": 7,
      "metadata": {
        "colab": {
          "base_uri": "https://localhost:8080/"
        },
        "id": "k4fyMKMJKG41",
        "outputId": "850ea5f9-e468-4e05-bfd5-fdf65a512acc"
      },
      "outputs": [
        {
          "output_type": "stream",
          "name": "stdout",
          "text": [
            "<class 'pandas.core.frame.DataFrame'>\n",
            "RangeIndex: 7787 entries, 0 to 7786\n",
            "Data columns (total 12 columns):\n",
            " #   Column        Non-Null Count  Dtype \n",
            "---  ------        --------------  ----- \n",
            " 0   show_id       7787 non-null   object\n",
            " 1   type          7787 non-null   object\n",
            " 2   title         7787 non-null   object\n",
            " 3   director      5398 non-null   object\n",
            " 4   cast          7069 non-null   object\n",
            " 5   country       7280 non-null   object\n",
            " 6   date_added    7777 non-null   object\n",
            " 7   release_year  7787 non-null   int64 \n",
            " 8   rating        7780 non-null   object\n",
            " 9   duration      7787 non-null   object\n",
            " 10  listed_in     7787 non-null   object\n",
            " 11  description   7787 non-null   object\n",
            "dtypes: int64(1), object(11)\n",
            "memory usage: 730.2+ KB\n"
          ]
        }
      ],
      "source": [
        "# checking basic information of all columns such as datatype, total number null values present, memory usage etc.\n",
        "df.info()"
      ]
    },
    {
      "cell_type": "code",
      "execution_count": 8,
      "metadata": {
        "colab": {
          "base_uri": "https://localhost:8080/",
          "height": 0
        },
        "id": "ltX9-q3OKHnX",
        "outputId": "6b0fa9c1-53bd-42c8-8699-43ab64067aed"
      },
      "outputs": [
        {
          "output_type": "execute_result",
          "data": {
            "text/plain": [
              "               count unique  \\\n",
              "show_id         7787   7787   \n",
              "type            7787      2   \n",
              "title           7787   7787   \n",
              "director        5398   4049   \n",
              "cast            7069   6831   \n",
              "country         7280    681   \n",
              "date_added      7777   1565   \n",
              "release_year  7787.0    NaN   \n",
              "rating          7780     14   \n",
              "duration        7787    216   \n",
              "listed_in       7787    492   \n",
              "description     7787   7769   \n",
              "\n",
              "                                                            top  freq  \\\n",
              "show_id                                                      s1     1   \n",
              "type                                                      Movie  5377   \n",
              "title                                                        3%     1   \n",
              "director                                RaÃºl Campos, Jan Suter    18   \n",
              "cast                                         David Attenborough    18   \n",
              "country                                           United States  2555   \n",
              "date_added                                      January 1, 2020   118   \n",
              "release_year                                                NaN   NaN   \n",
              "rating                                                    TV-MA  2863   \n",
              "duration                                               1 Season  1608   \n",
              "listed_in                                         Documentaries   334   \n",
              "description   Multiple women report their husbands as missin...     3   \n",
              "\n",
              "                    mean       std     min     25%     50%     75%     max  \n",
              "show_id              NaN       NaN     NaN     NaN     NaN     NaN     NaN  \n",
              "type                 NaN       NaN     NaN     NaN     NaN     NaN     NaN  \n",
              "title                NaN       NaN     NaN     NaN     NaN     NaN     NaN  \n",
              "director             NaN       NaN     NaN     NaN     NaN     NaN     NaN  \n",
              "cast                 NaN       NaN     NaN     NaN     NaN     NaN     NaN  \n",
              "country              NaN       NaN     NaN     NaN     NaN     NaN     NaN  \n",
              "date_added           NaN       NaN     NaN     NaN     NaN     NaN     NaN  \n",
              "release_year  2013.93258  8.757395  1925.0  2013.0  2017.0  2018.0  2021.0  \n",
              "rating               NaN       NaN     NaN     NaN     NaN     NaN     NaN  \n",
              "duration             NaN       NaN     NaN     NaN     NaN     NaN     NaN  \n",
              "listed_in            NaN       NaN     NaN     NaN     NaN     NaN     NaN  \n",
              "description          NaN       NaN     NaN     NaN     NaN     NaN     NaN  "
            ],
            "text/html": [
              "\n",
              "  <div id=\"df-57d5ce87-d034-4048-8918-41ee86eef230\">\n",
              "    <div class=\"colab-df-container\">\n",
              "      <div>\n",
              "<style scoped>\n",
              "    .dataframe tbody tr th:only-of-type {\n",
              "        vertical-align: middle;\n",
              "    }\n",
              "\n",
              "    .dataframe tbody tr th {\n",
              "        vertical-align: top;\n",
              "    }\n",
              "\n",
              "    .dataframe thead th {\n",
              "        text-align: right;\n",
              "    }\n",
              "</style>\n",
              "<table border=\"1\" class=\"dataframe\">\n",
              "  <thead>\n",
              "    <tr style=\"text-align: right;\">\n",
              "      <th></th>\n",
              "      <th>count</th>\n",
              "      <th>unique</th>\n",
              "      <th>top</th>\n",
              "      <th>freq</th>\n",
              "      <th>mean</th>\n",
              "      <th>std</th>\n",
              "      <th>min</th>\n",
              "      <th>25%</th>\n",
              "      <th>50%</th>\n",
              "      <th>75%</th>\n",
              "      <th>max</th>\n",
              "    </tr>\n",
              "  </thead>\n",
              "  <tbody>\n",
              "    <tr>\n",
              "      <th>show_id</th>\n",
              "      <td>7787</td>\n",
              "      <td>7787</td>\n",
              "      <td>s1</td>\n",
              "      <td>1</td>\n",
              "      <td>NaN</td>\n",
              "      <td>NaN</td>\n",
              "      <td>NaN</td>\n",
              "      <td>NaN</td>\n",
              "      <td>NaN</td>\n",
              "      <td>NaN</td>\n",
              "      <td>NaN</td>\n",
              "    </tr>\n",
              "    <tr>\n",
              "      <th>type</th>\n",
              "      <td>7787</td>\n",
              "      <td>2</td>\n",
              "      <td>Movie</td>\n",
              "      <td>5377</td>\n",
              "      <td>NaN</td>\n",
              "      <td>NaN</td>\n",
              "      <td>NaN</td>\n",
              "      <td>NaN</td>\n",
              "      <td>NaN</td>\n",
              "      <td>NaN</td>\n",
              "      <td>NaN</td>\n",
              "    </tr>\n",
              "    <tr>\n",
              "      <th>title</th>\n",
              "      <td>7787</td>\n",
              "      <td>7787</td>\n",
              "      <td>3%</td>\n",
              "      <td>1</td>\n",
              "      <td>NaN</td>\n",
              "      <td>NaN</td>\n",
              "      <td>NaN</td>\n",
              "      <td>NaN</td>\n",
              "      <td>NaN</td>\n",
              "      <td>NaN</td>\n",
              "      <td>NaN</td>\n",
              "    </tr>\n",
              "    <tr>\n",
              "      <th>director</th>\n",
              "      <td>5398</td>\n",
              "      <td>4049</td>\n",
              "      <td>RaÃºl Campos, Jan Suter</td>\n",
              "      <td>18</td>\n",
              "      <td>NaN</td>\n",
              "      <td>NaN</td>\n",
              "      <td>NaN</td>\n",
              "      <td>NaN</td>\n",
              "      <td>NaN</td>\n",
              "      <td>NaN</td>\n",
              "      <td>NaN</td>\n",
              "    </tr>\n",
              "    <tr>\n",
              "      <th>cast</th>\n",
              "      <td>7069</td>\n",
              "      <td>6831</td>\n",
              "      <td>David Attenborough</td>\n",
              "      <td>18</td>\n",
              "      <td>NaN</td>\n",
              "      <td>NaN</td>\n",
              "      <td>NaN</td>\n",
              "      <td>NaN</td>\n",
              "      <td>NaN</td>\n",
              "      <td>NaN</td>\n",
              "      <td>NaN</td>\n",
              "    </tr>\n",
              "    <tr>\n",
              "      <th>country</th>\n",
              "      <td>7280</td>\n",
              "      <td>681</td>\n",
              "      <td>United States</td>\n",
              "      <td>2555</td>\n",
              "      <td>NaN</td>\n",
              "      <td>NaN</td>\n",
              "      <td>NaN</td>\n",
              "      <td>NaN</td>\n",
              "      <td>NaN</td>\n",
              "      <td>NaN</td>\n",
              "      <td>NaN</td>\n",
              "    </tr>\n",
              "    <tr>\n",
              "      <th>date_added</th>\n",
              "      <td>7777</td>\n",
              "      <td>1565</td>\n",
              "      <td>January 1, 2020</td>\n",
              "      <td>118</td>\n",
              "      <td>NaN</td>\n",
              "      <td>NaN</td>\n",
              "      <td>NaN</td>\n",
              "      <td>NaN</td>\n",
              "      <td>NaN</td>\n",
              "      <td>NaN</td>\n",
              "      <td>NaN</td>\n",
              "    </tr>\n",
              "    <tr>\n",
              "      <th>release_year</th>\n",
              "      <td>7787.0</td>\n",
              "      <td>NaN</td>\n",
              "      <td>NaN</td>\n",
              "      <td>NaN</td>\n",
              "      <td>2013.93258</td>\n",
              "      <td>8.757395</td>\n",
              "      <td>1925.0</td>\n",
              "      <td>2013.0</td>\n",
              "      <td>2017.0</td>\n",
              "      <td>2018.0</td>\n",
              "      <td>2021.0</td>\n",
              "    </tr>\n",
              "    <tr>\n",
              "      <th>rating</th>\n",
              "      <td>7780</td>\n",
              "      <td>14</td>\n",
              "      <td>TV-MA</td>\n",
              "      <td>2863</td>\n",
              "      <td>NaN</td>\n",
              "      <td>NaN</td>\n",
              "      <td>NaN</td>\n",
              "      <td>NaN</td>\n",
              "      <td>NaN</td>\n",
              "      <td>NaN</td>\n",
              "      <td>NaN</td>\n",
              "    </tr>\n",
              "    <tr>\n",
              "      <th>duration</th>\n",
              "      <td>7787</td>\n",
              "      <td>216</td>\n",
              "      <td>1 Season</td>\n",
              "      <td>1608</td>\n",
              "      <td>NaN</td>\n",
              "      <td>NaN</td>\n",
              "      <td>NaN</td>\n",
              "      <td>NaN</td>\n",
              "      <td>NaN</td>\n",
              "      <td>NaN</td>\n",
              "      <td>NaN</td>\n",
              "    </tr>\n",
              "    <tr>\n",
              "      <th>listed_in</th>\n",
              "      <td>7787</td>\n",
              "      <td>492</td>\n",
              "      <td>Documentaries</td>\n",
              "      <td>334</td>\n",
              "      <td>NaN</td>\n",
              "      <td>NaN</td>\n",
              "      <td>NaN</td>\n",
              "      <td>NaN</td>\n",
              "      <td>NaN</td>\n",
              "      <td>NaN</td>\n",
              "      <td>NaN</td>\n",
              "    </tr>\n",
              "    <tr>\n",
              "      <th>description</th>\n",
              "      <td>7787</td>\n",
              "      <td>7769</td>\n",
              "      <td>Multiple women report their husbands as missin...</td>\n",
              "      <td>3</td>\n",
              "      <td>NaN</td>\n",
              "      <td>NaN</td>\n",
              "      <td>NaN</td>\n",
              "      <td>NaN</td>\n",
              "      <td>NaN</td>\n",
              "      <td>NaN</td>\n",
              "      <td>NaN</td>\n",
              "    </tr>\n",
              "  </tbody>\n",
              "</table>\n",
              "</div>\n",
              "      <button class=\"colab-df-convert\" onclick=\"convertToInteractive('df-57d5ce87-d034-4048-8918-41ee86eef230')\"\n",
              "              title=\"Convert this dataframe to an interactive table.\"\n",
              "              style=\"display:none;\">\n",
              "        \n",
              "  <svg xmlns=\"http://www.w3.org/2000/svg\" height=\"24px\"viewBox=\"0 0 24 24\"\n",
              "       width=\"24px\">\n",
              "    <path d=\"M0 0h24v24H0V0z\" fill=\"none\"/>\n",
              "    <path d=\"M18.56 5.44l.94 2.06.94-2.06 2.06-.94-2.06-.94-.94-2.06-.94 2.06-2.06.94zm-11 1L8.5 8.5l.94-2.06 2.06-.94-2.06-.94L8.5 2.5l-.94 2.06-2.06.94zm10 10l.94 2.06.94-2.06 2.06-.94-2.06-.94-.94-2.06-.94 2.06-2.06.94z\"/><path d=\"M17.41 7.96l-1.37-1.37c-.4-.4-.92-.59-1.43-.59-.52 0-1.04.2-1.43.59L10.3 9.45l-7.72 7.72c-.78.78-.78 2.05 0 2.83L4 21.41c.39.39.9.59 1.41.59.51 0 1.02-.2 1.41-.59l7.78-7.78 2.81-2.81c.8-.78.8-2.07 0-2.86zM5.41 20L4 18.59l7.72-7.72 1.47 1.35L5.41 20z\"/>\n",
              "  </svg>\n",
              "      </button>\n",
              "      \n",
              "  <style>\n",
              "    .colab-df-container {\n",
              "      display:flex;\n",
              "      flex-wrap:wrap;\n",
              "      gap: 12px;\n",
              "    }\n",
              "\n",
              "    .colab-df-convert {\n",
              "      background-color: #E8F0FE;\n",
              "      border: none;\n",
              "      border-radius: 50%;\n",
              "      cursor: pointer;\n",
              "      display: none;\n",
              "      fill: #1967D2;\n",
              "      height: 32px;\n",
              "      padding: 0 0 0 0;\n",
              "      width: 32px;\n",
              "    }\n",
              "\n",
              "    .colab-df-convert:hover {\n",
              "      background-color: #E2EBFA;\n",
              "      box-shadow: 0px 1px 2px rgba(60, 64, 67, 0.3), 0px 1px 3px 1px rgba(60, 64, 67, 0.15);\n",
              "      fill: #174EA6;\n",
              "    }\n",
              "\n",
              "    [theme=dark] .colab-df-convert {\n",
              "      background-color: #3B4455;\n",
              "      fill: #D2E3FC;\n",
              "    }\n",
              "\n",
              "    [theme=dark] .colab-df-convert:hover {\n",
              "      background-color: #434B5C;\n",
              "      box-shadow: 0px 1px 3px 1px rgba(0, 0, 0, 0.15);\n",
              "      filter: drop-shadow(0px 1px 2px rgba(0, 0, 0, 0.3));\n",
              "      fill: #FFFFFF;\n",
              "    }\n",
              "  </style>\n",
              "\n",
              "      <script>\n",
              "        const buttonEl =\n",
              "          document.querySelector('#df-57d5ce87-d034-4048-8918-41ee86eef230 button.colab-df-convert');\n",
              "        buttonEl.style.display =\n",
              "          google.colab.kernel.accessAllowed ? 'block' : 'none';\n",
              "\n",
              "        async function convertToInteractive(key) {\n",
              "          const element = document.querySelector('#df-57d5ce87-d034-4048-8918-41ee86eef230');\n",
              "          const dataTable =\n",
              "            await google.colab.kernel.invokeFunction('convertToInteractive',\n",
              "                                                     [key], {});\n",
              "          if (!dataTable) return;\n",
              "\n",
              "          const docLinkHtml = 'Like what you see? Visit the ' +\n",
              "            '<a target=\"_blank\" href=https://colab.research.google.com/notebooks/data_table.ipynb>data table notebook</a>'\n",
              "            + ' to learn more about interactive tables.';\n",
              "          element.innerHTML = '';\n",
              "          dataTable['output_type'] = 'display_data';\n",
              "          await google.colab.output.renderOutput(dataTable, element);\n",
              "          const docLink = document.createElement('div');\n",
              "          docLink.innerHTML = docLinkHtml;\n",
              "          element.appendChild(docLink);\n",
              "        }\n",
              "      </script>\n",
              "    </div>\n",
              "  </div>\n",
              "  "
            ]
          },
          "metadata": {},
          "execution_count": 8
        }
      ],
      "source": [
        "# checking description of all data types columns.\n",
        "df.describe(include='all').T"
      ]
    },
    {
      "cell_type": "code",
      "execution_count": 9,
      "metadata": {
        "colab": {
          "base_uri": "https://localhost:8080/"
        },
        "id": "Ap5TU5qs3ELr",
        "outputId": "9ef40078-b465-4b0c-ffaa-ff6505cdc66b"
      },
      "outputs": [
        {
          "output_type": "execute_result",
          "data": {
            "text/plain": [
              "show_id         7787\n",
              "type               2\n",
              "title           7787\n",
              "director        4049\n",
              "cast            6831\n",
              "country          681\n",
              "date_added      1565\n",
              "release_year      73\n",
              "rating            14\n",
              "duration         216\n",
              "listed_in        492\n",
              "description     7769\n",
              "dtype: int64"
            ]
          },
          "metadata": {},
          "execution_count": 9
        }
      ],
      "source": [
        "# Checking for unique values in each column\n",
        "df.nunique()"
      ]
    },
    {
      "cell_type": "markdown",
      "metadata": {
        "id": "32kTqDX9I_yj"
      },
      "source": [
        "# **CLEANING THE DATASET**\n"
      ]
    },
    {
      "cell_type": "markdown",
      "metadata": {
        "id": "NJrh137WOXyx"
      },
      "source": [
        "## Null values check\n",
        "\n",
        "\n"
      ]
    },
    {
      "cell_type": "code",
      "execution_count": 14,
      "metadata": {
        "colab": {
          "base_uri": "https://localhost:8080/"
        },
        "id": "gTOrOaGrI4Rc",
        "outputId": "3cc579bb-2509-45bb-b6c0-085e8ceff075"
      },
      "outputs": [
        {
          "output_type": "execute_result",
          "data": {
            "text/plain": [
              "show_id            0\n",
              "type               0\n",
              "title              0\n",
              "director        2389\n",
              "cast             718\n",
              "country          507\n",
              "date_added        10\n",
              "release_year       0\n",
              "rating             7\n",
              "duration           0\n",
              "listed_in          0\n",
              "description        0\n",
              "dtype: int64"
            ]
          },
          "metadata": {},
          "execution_count": 14
        }
      ],
      "source": [
        "# Cheking for null values \n",
        "df.isna().sum(axis = 0)"
      ]
    },
    {
      "cell_type": "code",
      "execution_count": 15,
      "metadata": {
        "colab": {
          "base_uri": "https://localhost:8080/",
          "height": 0
        },
        "id": "_MHab1KPPsuF",
        "outputId": "114f586f-1c25-462e-a8af-c674dde017b9"
      },
      "outputs": [
        {
          "output_type": "display_data",
          "data": {
            "text/plain": [
              "<Figure size 1080x360 with 2 Axes>"
            ],
            "image/png": "[encoded data removed]"
          },
          "metadata": {
            "needs_background": "light"
          }
        }
      ],
      "source": [
        "# Checking missing values\n",
        "plt.figure(figsize=(15, 5))\n",
        "sns.heatmap(df.isnull(), cbar=True, yticklabels=False)\n",
        "plt.xlabel(\"column_name\", size=14, weight=\"bold\")\n",
        "plt.title(\"missing values in column\",fontweight=\"bold\",size=17)\n",
        "plt.show()"
      ]
    },
    {
      "cell_type": "markdown",
      "metadata": {
        "id": "AjcVGxZnNRQg"
      },
      "source": [
        "Some insights:-\n",
        "1. There are total 7787 rows and 12 columns in this dataset. \n",
        "2.  All columns are of object data type except the release_year which is of int type.\n",
        "3.  There are no duplicate value in this data set but there are many null values present in this dataset \n",
        "4.  Columns with null values are director, cast, country, date_added and rating"
      ]
    },
    {
      "cell_type": "markdown",
      "source": [
        "## Null Values Treatment"
      ],
      "metadata": {
        "id": "bKJF3rekwFvQ"
      }
    },
    {
      "cell_type": "code",
      "source": [
        "#Replacing missing values in 'director' column with Not Mention\n",
        "df['director'].replace(np.nan, 'Not Mention', inplace = True)\n",
        "\n",
        "#Replacing missing values in 'cast' column with Not Mention\n",
        "df['cast'].replace(np.nan, 'Not Mention', inplace = True)\n",
        "\n",
        "#Replacing missing values in 'country' column with mode\n",
        "df['country']= df['country'].fillna(df['country'].mode()[0])\n",
        "\n",
        "#Replacing missing values in 'rating' column with value most frequent rating i.e. mode\n",
        "df['rating'] = df['rating'].fillna(df['rating'].mode()[0])\n",
        "\n",
        "# Dropping the null values in 'date_added'\n",
        "df = df[df['date_added'].notna()]\n"
      ],
      "metadata": {
        "id": "wk-9a2fpoLcV"
      },
      "execution_count": 16,
      "outputs": []
    },
    {
      "cell_type": "code",
      "source": [
        "df.info()"
      ],
      "metadata": {
        "id": "x4sWP2vwXcg9",
        "colab": {
          "base_uri": "https://localhost:8080/"
        },
        "outputId": "961a7e9c-57e3-424b-d9d3-6aeda44aaf18"
      },
      "execution_count": 17,
      "outputs": [
        {
          "output_type": "stream",
          "name": "stdout",
          "text": [
            "<class 'pandas.core.frame.DataFrame'>\n",
            "Int64Index: 7777 entries, 0 to 7786\n",
            "Data columns (total 12 columns):\n",
            " #   Column        Non-Null Count  Dtype \n",
            "---  ------        --------------  ----- \n",
            " 0   show_id       7777 non-null   object\n",
            " 1   type          7777 non-null   object\n",
            " 2   title         7777 non-null   object\n",
            " 3   director      7777 non-null   object\n",
            " 4   cast          7777 non-null   object\n",
            " 5   country       7777 non-null   object\n",
            " 6   date_added    7777 non-null   object\n",
            " 7   release_year  7777 non-null   int64 \n",
            " 8   rating        7777 non-null   object\n",
            " 9   duration      7777 non-null   object\n",
            " 10  listed_in     7777 non-null   object\n",
            " 11  description   7777 non-null   object\n",
            "dtypes: int64(1), object(11)\n",
            "memory usage: 789.9+ KB\n"
          ]
        }
      ]
    },
    {
      "cell_type": "code",
      "source": [
        "# Converting into a date-time format\n",
        "df['date_added'] = pd.to_datetime(df['date_added'])\n",
        "\n",
        "# Adding new column year added to get year in which movie is added to netflix\n",
        "df['year_added'] = df['date_added'].dt.year\n",
        "df['year_added'].astype(int)\n"
      ],
      "metadata": {
        "id": "C_92Fxm5YEQJ",
        "colab": {
          "base_uri": "https://localhost:8080/"
        },
        "outputId": "e9aece8e-c8e1-43a7-dfb0-d3c1e69a6bd0"
      },
      "execution_count": 18,
      "outputs": [
        {
          "output_type": "execute_result",
          "data": {
            "text/plain": [
              "0       2020\n",
              "1       2016\n",
              "2       2018\n",
              "3       2017\n",
              "4       2020\n",
              "        ... \n",
              "7782    2020\n",
              "7783    2019\n",
              "7784    2020\n",
              "7785    2020\n",
              "7786    2020\n",
              "Name: year_added, Length: 7777, dtype: int64"
            ]
          },
          "metadata": {},
          "execution_count": 18
        }
      ]
    },
    {
      "cell_type": "code",
      "source": [
        "# Renaming the ‘listed_in’ feature to the genre for easy use.\n",
        "df = df.rename(columns={\"listed_in\":\"genere\"})\n",
        "df['genere'] = df['genere'].apply(lambda x: x.split(\",\")[0])\n"
      ],
      "metadata": {
        "id": "tvm0eMSBZUOC"
      },
      "execution_count": 19,
      "outputs": []
    },
    {
      "cell_type": "code",
      "source": [
        "df.head()"
      ],
      "metadata": {
        "id": "knEsqRdbZ5ul",
        "colab": {
          "base_uri": "https://localhost:8080/",
          "height": 250
        },
        "outputId": "b482c2e2-a684-401a-e7d1-d4e35ae4a76f"
      },
      "execution_count": 21,
      "outputs": [
        {
          "output_type": "execute_result",
          "data": {
            "text/plain": [
              "  show_id     type  title           director  \\\n",
              "0      s1  TV Show     3%        Not Mention   \n",
              "1      s2    Movie   7:19  Jorge Michel Grau   \n",
              "2      s3    Movie  23:59       Gilbert Chan   \n",
              "3      s4    Movie      9        Shane Acker   \n",
              "4      s5    Movie     21     Robert Luketic   \n",
              "\n",
              "                                                cast        country  \\\n",
              "0  JoÃ£o Miguel, Bianca Comparato, Michel Gomes, ...         Brazil   \n",
              "1  DemiÃ¡n Bichir, HÃ©ctor Bonilla, Oscar Serrano...         Mexico   \n",
              "2  Tedd Chan, Stella Chung, Henley Hii, Lawrence ...      Singapore   \n",
              "3  Elijah Wood, John C. Reilly, Jennifer Connelly...  United States   \n",
              "4  Jim Sturgess, Kevin Spacey, Kate Bosworth, Aar...  United States   \n",
              "\n",
              "  date_added  release_year rating   duration                  genere  \\\n",
              "0 2020-08-14          2020  TV-MA  4 Seasons  International TV Shows   \n",
              "1 2016-12-23          2016  TV-MA     93 min                  Dramas   \n",
              "2 2018-12-20          2011      R     78 min           Horror Movies   \n",
              "3 2017-11-16          2009  PG-13     80 min      Action & Adventure   \n",
              "4 2020-01-01          2008  PG-13    123 min                  Dramas   \n",
              "\n",
              "                                         description  year_added  \n",
              "0  In a future where the elite inhabit an island ...        2020  \n",
              "1  After a devastating earthquake hits Mexico Cit...        2016  \n",
              "2  When an army recruit is found dead, his fellow...        2018  \n",
              "3  In a postapocalyptic world, rag-doll robots hi...        2017  \n",
              "4  A brilliant group of students become card-coun...        2020  "
            ],
            "text/html": [
              "\n",
              "  <div id=\"df-f99530ed-2813-449d-831c-b160ebab7adb\">\n",
              "    <div class=\"colab-df-container\">\n",
              "      <div>\n",
              "<style scoped>\n",
              "    .dataframe tbody tr th:only-of-type {\n",
              "        vertical-align: middle;\n",
              "    }\n",
              "\n",
              "    .dataframe tbody tr th {\n",
              "        vertical-align: top;\n",
              "    }\n",
              "\n",
              "    .dataframe thead th {\n",
              "        text-align: right;\n",
              "    }\n",
              "</style>\n",
              "<table border=\"1\" class=\"dataframe\">\n",
              "  <thead>\n",
              "    <tr style=\"text-align: right;\">\n",
              "      <th></th>\n",
              "      <th>show_id</th>\n",
              "      <th>type</th>\n",
              "      <th>title</th>\n",
              "      <th>director</th>\n",
              "      <th>cast</th>\n",
              "      <th>country</th>\n",
              "      <th>date_added</th>\n",
              "      <th>release_year</th>\n",
              "      <th>rating</th>\n",
              "      <th>duration</th>\n",
              "      <th>genere</th>\n",
              "      <th>description</th>\n",
              "      <th>year_added</th>\n",
              "    </tr>\n",
              "  </thead>\n",
              "  <tbody>\n",
              "    <tr>\n",
              "      <th>0</th>\n",
              "      <td>s1</td>\n",
              "      <td>TV Show</td>\n",
              "      <td>3%</td>\n",
              "      <td>Not Mention</td>\n",
              "      <td>JoÃ£o Miguel, Bianca Comparato, Michel Gomes, ...</td>\n",
              "      <td>Brazil</td>\n",
              "      <td>2020-08-14</td>\n",
              "      <td>2020</td>\n",
              "      <td>TV-MA</td>\n",
              "      <td>4 Seasons</td>\n",
              "      <td>International TV Shows</td>\n",
              "      <td>In a future where the elite inhabit an island ...</td>\n",
              "      <td>2020</td>\n",
              "    </tr>\n",
              "    <tr>\n",
              "      <th>1</th>\n",
              "      <td>s2</td>\n",
              "      <td>Movie</td>\n",
              "      <td>7:19</td>\n",
              "      <td>Jorge Michel Grau</td>\n",
              "      <td>DemiÃ¡n Bichir, HÃ©ctor Bonilla, Oscar Serrano...</td>\n",
              "      <td>Mexico</td>\n",
              "      <td>2016-12-23</td>\n",
              "      <td>2016</td>\n",
              "      <td>TV-MA</td>\n",
              "      <td>93 min</td>\n",
              "      <td>Dramas</td>\n",
              "      <td>After a devastating earthquake hits Mexico Cit...</td>\n",
              "      <td>2016</td>\n",
              "    </tr>\n",
              "    <tr>\n",
              "      <th>2</th>\n",
              "      <td>s3</td>\n",
              "      <td>Movie</td>\n",
              "      <td>23:59</td>\n",
              "      <td>Gilbert Chan</td>\n",
              "      <td>Tedd Chan, Stella Chung, Henley Hii, Lawrence ...</td>\n",
              "      <td>Singapore</td>\n",
              "      <td>2018-12-20</td>\n",
              "      <td>2011</td>\n",
              "      <td>R</td>\n",
              "      <td>78 min</td>\n",
              "      <td>Horror Movies</td>\n",
              "      <td>When an army recruit is found dead, his fellow...</td>\n",
              "      <td>2018</td>\n",
              "    </tr>\n",
              "    <tr>\n",
              "      <th>3</th>\n",
              "      <td>s4</td>\n",
              "      <td>Movie</td>\n",
              "      <td>9</td>\n",
              "      <td>Shane Acker</td>\n",
              "      <td>Elijah Wood, John C. Reilly, Jennifer Connelly...</td>\n",
              "      <td>United States</td>\n",
              "      <td>2017-11-16</td>\n",
              "      <td>2009</td>\n",
              "      <td>PG-13</td>\n",
              "      <td>80 min</td>\n",
              "      <td>Action &amp; Adventure</td>\n",
              "      <td>In a postapocalyptic world, rag-doll robots hi...</td>\n",
              "      <td>2017</td>\n",
              "    </tr>\n",
              "    <tr>\n",
              "      <th>4</th>\n",
              "      <td>s5</td>\n",
              "      <td>Movie</td>\n",
              "      <td>21</td>\n",
              "      <td>Robert Luketic</td>\n",
              "      <td>Jim Sturgess, Kevin Spacey, Kate Bosworth, Aar...</td>\n",
              "      <td>United States</td>\n",
              "      <td>2020-01-01</td>\n",
              "      <td>2008</td>\n",
              "      <td>PG-13</td>\n",
              "      <td>123 min</td>\n",
              "      <td>Dramas</td>\n",
              "      <td>A brilliant group of students become card-coun...</td>\n",
              "      <td>2020</td>\n",
              "    </tr>\n",
              "  </tbody>\n",
              "</table>\n",
              "</div>\n",
              "      <button class=\"colab-df-convert\" onclick=\"convertToInteractive('df-f99530ed-2813-449d-831c-b160ebab7adb')\"\n",
              "              title=\"Convert this dataframe to an interactive table.\"\n",
              "              style=\"display:none;\">\n",
              "        \n",
              "  <svg xmlns=\"http://www.w3.org/2000/svg\" height=\"24px\"viewBox=\"0 0 24 24\"\n",
              "       width=\"24px\">\n",
              "    <path d=\"M0 0h24v24H0V0z\" fill=\"none\"/>\n",
              "    <path d=\"M18.56 5.44l.94 2.06.94-2.06 2.06-.94-2.06-.94-.94-2.06-.94 2.06-2.06.94zm-11 1L8.5 8.5l.94-2.06 2.06-.94-2.06-.94L8.5 2.5l-.94 2.06-2.06.94zm10 10l.94 2.06.94-2.06 2.06-.94-2.06-.94-.94-2.06-.94 2.06-2.06.94z\"/><path d=\"M17.41 7.96l-1.37-1.37c-.4-.4-.92-.59-1.43-.59-.52 0-1.04.2-1.43.59L10.3 9.45l-7.72 7.72c-.78.78-.78 2.05 0 2.83L4 21.41c.39.39.9.59 1.41.59.51 0 1.02-.2 1.41-.59l7.78-7.78 2.81-2.81c.8-.78.8-2.07 0-2.86zM5.41 20L4 18.59l7.72-7.72 1.47 1.35L5.41 20z\"/>\n",
              "  </svg>\n",
              "      </button>\n",
              "      \n",
              "  <style>\n",
              "    .colab-df-container {\n",
              "      display:flex;\n",
              "      flex-wrap:wrap;\n",
              "      gap: 12px;\n",
              "    }\n",
              "\n",
              "    .colab-df-convert {\n",
              "      background-color: #E8F0FE;\n",
              "      border: none;\n",
              "      border-radius: 50%;\n",
              "      cursor: pointer;\n",
              "      display: none;\n",
              "      fill: #1967D2;\n",
              "      height: 32px;\n",
              "      padding: 0 0 0 0;\n",
              "      width: 32px;\n",
              "    }\n",
              "\n",
              "    .colab-df-convert:hover {\n",
              "      background-color: #E2EBFA;\n",
              "      box-shadow: 0px 1px 2px rgba(60, 64, 67, 0.3), 0px 1px 3px 1px rgba(60, 64, 67, 0.15);\n",
              "      fill: #174EA6;\n",
              "    }\n",
              "\n",
              "    [theme=dark] .colab-df-convert {\n",
              "      background-color: #3B4455;\n",
              "      fill: #D2E3FC;\n",
              "    }\n",
              "\n",
              "    [theme=dark] .colab-df-convert:hover {\n",
              "      background-color: #434B5C;\n",
              "      box-shadow: 0px 1px 3px 1px rgba(0, 0, 0, 0.15);\n",
              "      filter: drop-shadow(0px 1px 2px rgba(0, 0, 0, 0.3));\n",
              "      fill: #FFFFFF;\n",
              "    }\n",
              "  </style>\n",
              "\n",
              "      <script>\n",
              "        const buttonEl =\n",
              "          document.querySelector('#df-f99530ed-2813-449d-831c-b160ebab7adb button.colab-df-convert');\n",
              "        buttonEl.style.display =\n",
              "          google.colab.kernel.accessAllowed ? 'block' : 'none';\n",
              "\n",
              "        async function convertToInteractive(key) {\n",
              "          const element = document.querySelector('#df-f99530ed-2813-449d-831c-b160ebab7adb');\n",
              "          const dataTable =\n",
              "            await google.colab.kernel.invokeFunction('convertToInteractive',\n",
              "                                                     [key], {});\n",
              "          if (!dataTable) return;\n",
              "\n",
              "          const docLinkHtml = 'Like what you see? Visit the ' +\n",
              "            '<a target=\"_blank\" href=https://colab.research.google.com/notebooks/data_table.ipynb>data table notebook</a>'\n",
              "            + ' to learn more about interactive tables.';\n",
              "          element.innerHTML = '';\n",
              "          dataTable['output_type'] = 'display_data';\n",
              "          await google.colab.output.renderOutput(dataTable, element);\n",
              "          const docLink = document.createElement('div');\n",
              "          docLink.innerHTML = docLinkHtml;\n",
              "          element.appendChild(docLink);\n",
              "        }\n",
              "      </script>\n",
              "    </div>\n",
              "  </div>\n",
              "  "
            ]
          },
          "metadata": {},
          "execution_count": 21
        }
      ]
    },
    {
      "cell_type": "code",
      "source": [
        "df.info()"
      ],
      "metadata": {
        "id": "I0ncZbB2aA3R",
        "colab": {
          "base_uri": "https://localhost:8080/"
        },
        "outputId": "4e76e83a-4501-4aeb-c568-3cbf4e1da36c"
      },
      "execution_count": 22,
      "outputs": [
        {
          "output_type": "stream",
          "name": "stdout",
          "text": [
            "<class 'pandas.core.frame.DataFrame'>\n",
            "Int64Index: 7777 entries, 0 to 7786\n",
            "Data columns (total 13 columns):\n",
            " #   Column        Non-Null Count  Dtype         \n",
            "---  ------        --------------  -----         \n",
            " 0   show_id       7777 non-null   object        \n",
            " 1   type          7777 non-null   object        \n",
            " 2   title         7777 non-null   object        \n",
            " 3   director      7777 non-null   object        \n",
            " 4   cast          7777 non-null   object        \n",
            " 5   country       7777 non-null   object        \n",
            " 6   date_added    7777 non-null   datetime64[ns]\n",
            " 7   release_year  7777 non-null   int64         \n",
            " 8   rating        7777 non-null   object        \n",
            " 9   duration      7777 non-null   object        \n",
            " 10  genere        7777 non-null   object        \n",
            " 11  description   7777 non-null   object        \n",
            " 12  year_added    7777 non-null   int64         \n",
            "dtypes: datetime64[ns](1), int64(2), object(10)\n",
            "memory usage: 850.6+ KB\n"
          ]
        }
      ]
    },
    {
      "cell_type": "markdown",
      "metadata": {
        "id": "u4x8khwGOfhv"
      },
      "source": [
        "## Duplicate values check"
      ]
    },
    {
      "cell_type": "code",
      "execution_count": 23,
      "metadata": {
        "colab": {
          "base_uri": "https://localhost:8080/"
        },
        "id": "CtIKl6YcLXP5",
        "outputId": "9a820044-e379-4cde-8f8b-b6127dc5a966"
      },
      "outputs": [
        {
          "output_type": "execute_result",
          "data": {
            "text/plain": [
              "0"
            ]
          },
          "metadata": {},
          "execution_count": 23
        }
      ],
      "source": [
        "# Checking for duplicate values\n",
        "len(df[df.duplicated()])"
      ]
    },
    {
      "cell_type": "markdown",
      "metadata": {
        "id": "HbriXcK0OPfm"
      },
      "source": [
        "Some insights:-\n",
        "1. There are no duplicate instances."
      ]
    },
    {
      "cell_type": "code",
      "execution_count": 24,
      "metadata": {
        "colab": {
          "base_uri": "https://localhost:8080/"
        },
        "id": "zY0wo6twMufb",
        "outputId": "c6eb6cfd-7acf-4200-e60c-b63105af068e"
      },
      "outputs": [
        {
          "output_type": "execute_result",
          "data": {
            "text/plain": [
              "7777"
            ]
          },
          "metadata": {},
          "execution_count": 24
        }
      ],
      "source": [
        "df.shape[0]"
      ]
    },
    {
      "cell_type": "markdown",
      "source": [
        "## Unique Values for each variable."
      ],
      "metadata": {
        "id": "u3PMJOP6ngxN"
      }
    },
    {
      "cell_type": "code",
      "source": [
        "# Check Unique Values for each variable.\n",
        "df['show_id'].unique()"
      ],
      "metadata": {
        "id": "zms12Yq5n-jE",
        "colab": {
          "base_uri": "https://localhost:8080/"
        },
        "outputId": "ab59033a-449a-463b-bd32-56fede048728"
      },
      "execution_count": 25,
      "outputs": [
        {
          "output_type": "execute_result",
          "data": {
            "text/plain": [
              "array(['s1', 's2', 's3', ..., 's7785', 's7786', 's7787'], dtype=object)"
            ]
          },
          "metadata": {},
          "execution_count": 25
        }
      ]
    },
    {
      "cell_type": "code",
      "source": [
        "df['type'].unique()"
      ],
      "metadata": {
        "id": "TYplQiL1N1JS",
        "colab": {
          "base_uri": "https://localhost:8080/"
        },
        "outputId": "61f6ed86-7d28-4f49-b2e2-336069b4339c"
      },
      "execution_count": 26,
      "outputs": [
        {
          "output_type": "execute_result",
          "data": {
            "text/plain": [
              "array(['TV Show', 'Movie'], dtype=object)"
            ]
          },
          "metadata": {},
          "execution_count": 26
        }
      ]
    },
    {
      "cell_type": "code",
      "source": [
        "df['title'].unique()"
      ],
      "metadata": {
        "id": "OssQnRlpOiBo",
        "colab": {
          "base_uri": "https://localhost:8080/"
        },
        "outputId": "1bb3f24c-db8a-4d21-d61c-4140b5ca94d0"
      },
      "execution_count": 27,
      "outputs": [
        {
          "output_type": "execute_result",
          "data": {
            "text/plain": [
              "array(['3%', '7:19', '23:59', ..., 'Zulu Man in Japan',\n",
              "       \"Zumbo's Just Desserts\", \"ZZ TOP: THAT LITTLE OL' BAND FROM TEXAS\"],\n",
              "      dtype=object)"
            ]
          },
          "metadata": {},
          "execution_count": 27
        }
      ]
    },
    {
      "cell_type": "code",
      "source": [
        "df['director'].unique()"
      ],
      "metadata": {
        "id": "2lHapJaZOiJ6",
        "colab": {
          "base_uri": "https://localhost:8080/"
        },
        "outputId": "d09046b3-128e-448c-a7a0-2f894aba3705"
      },
      "execution_count": 28,
      "outputs": [
        {
          "output_type": "execute_result",
          "data": {
            "text/plain": [
              "array(['Not Mention', 'Jorge Michel Grau', 'Gilbert Chan', ...,\n",
              "       'Josef Fares', 'Mozez Singh', 'Sam Dunn'], dtype=object)"
            ]
          },
          "metadata": {},
          "execution_count": 28
        }
      ]
    },
    {
      "cell_type": "code",
      "source": [
        "df['cast'].unique()"
      ],
      "metadata": {
        "id": "aQZHAf8wOiNc",
        "colab": {
          "base_uri": "https://localhost:8080/"
        },
        "outputId": "b0946656-c48a-4d1f-aa3f-da145e2ce86d"
      },
      "execution_count": 29,
      "outputs": [
        {
          "output_type": "execute_result",
          "data": {
            "text/plain": [
              "array(['JoÃ£o Miguel, Bianca Comparato, Michel Gomes, Rodolfo Valente, Vaneza Oliveira, Rafael Lozano, Viviane Porto, Mel Fronckowiak, Sergio Mamberti, ZezÃ© Motta, Celso Frateschi',\n",
              "       'DemiÃ¡n Bichir, HÃ©ctor Bonilla, Oscar Serrano, Azalia Ortiz, Octavio Michel, Carmen Beato',\n",
              "       'Tedd Chan, Stella Chung, Henley Hii, Lawrence Koh, Tommy Kuan, Josh Lai, Mark Lee, Susan Leong, Benjamin Lim',\n",
              "       ...,\n",
              "       'Vicky Kaushal, Sarah-Jane Dias, Raaghav Chanana, Manish Chaudhary, Meghna Malik, Malkeet Rauni, Anita Shabdish, Chittaranjan Tripathy',\n",
              "       'Nasty C', 'Adriano Zumbo, Rachel Khoo'], dtype=object)"
            ]
          },
          "metadata": {},
          "execution_count": 29
        }
      ]
    },
    {
      "cell_type": "code",
      "source": [
        "df['country'].unique()"
      ],
      "metadata": {
        "id": "aONo1mUDOiRH",
        "colab": {
          "base_uri": "https://localhost:8080/"
        },
        "outputId": "5e3ab6f5-ede4-40bc-fda3-4a0aa19a0443"
      },
      "execution_count": 30,
      "outputs": [
        {
          "output_type": "execute_result",
          "data": {
            "text/plain": [
              "array(['Brazil', 'Mexico', 'Singapore', 'United States', 'Turkey',\n",
              "       'Egypt', 'India', 'Poland, United States', 'Thailand', 'Nigeria',\n",
              "       'Norway, Iceland, United States', 'United Kingdom', 'Japan',\n",
              "       'South Korea', 'Italy', 'Canada', 'Indonesia', 'Romania', 'Spain',\n",
              "       'Iceland', 'South Africa, Nigeria', 'France',\n",
              "       'United States, South Africa', 'Portugal, Spain',\n",
              "       'Hong Kong, China, Singapore', 'United States, Germany',\n",
              "       'South Africa, China, United States', 'Argentina',\n",
              "       'United States, France, Serbia', 'Germany',\n",
              "       'Denmark, France, Poland', 'Poland', 'Kenya',\n",
              "       'New Zealand, United Kingdom', 'Pakistan', 'Australia',\n",
              "       'Australia, United States', 'Mexico, United States',\n",
              "       'United States, China', 'China, Hong Kong', 'Taiwan',\n",
              "       'United States, United Kingdom', 'France, South Korea, Japan',\n",
              "       'United States, Canada', 'United Kingdom, United States',\n",
              "       'Netherlands, Denmark, South Africa', 'Canada, United States',\n",
              "       'Denmark', 'Hong Kong', 'France, Netherlands, Singapore', 'China',\n",
              "       'Philippines', 'United Kingdom, Spain, United States',\n",
              "       'United Arab Emirates, United States', 'Netherlands',\n",
              "       'United Kingdom, Hong Kong', 'Iran, France',\n",
              "       'United States, United Kingdom, France',\n",
              "       'United Kingdom, France, Belgium, United States, China',\n",
              "       'Argentina, Brazil, France, Poland, Germany, Denmark',\n",
              "       'Israel, United States', 'United States, Mexico',\n",
              "       'Uruguay, Argentina, Spain', 'Singapore, France',\n",
              "       'United Kingdom, United States, France, Germany',\n",
              "       'Turkey, United States', 'Bulgaria, United States',\n",
              "       'Australia, France', 'Hong Kong, Iceland, United States',\n",
              "       'United Arab Emirates', 'United States, Chile',\n",
              "       'Germany, France, Russia', 'Mauritius, South Africa',\n",
              "       'United States, Japan', 'Lebanon', 'United States, Bulgaria',\n",
              "       'Colombia', 'Uruguay, Argentina', 'Egypt, Algeria',\n",
              "       'France, Egypt', 'Uruguay', 'Soviet Union, India',\n",
              "       'Sweden, United States', 'South Africa', 'Malaysia',\n",
              "       'Ireland, United Kingdom, United States', 'Spain, Italy',\n",
              "       'United Kingdom, France, Germany',\n",
              "       'United States, Germany, Canada', 'United States, India',\n",
              "       'Japan, United States', 'Denmark, United States',\n",
              "       'South Africa, United States', 'Canada, Luxembourg',\n",
              "       'Serbia, United States', 'Canada, Nigeria',\n",
              "       'Iceland, Sweden, Belgium', 'Ireland, Canada',\n",
              "       'United States, Italy', 'Finland', 'India, Germany',\n",
              "       'China, Spain, South Korea, United States', 'Spain, Belgium',\n",
              "       'United Kingdom, Canada, United States, Germany',\n",
              "       'Brazil, Netherlands, United States, Colombia, Austria, Germany',\n",
              "       'France, Canada, Belgium',\n",
              "       'India, United Kingdom, China, Canada, Japan, South Korea, United States',\n",
              "       'France, Belgium', 'Indonesia, South Korea, Singapore', 'Norway',\n",
              "       'Peru', 'France, Senegal, Belgium', 'Canada, France', 'Chile',\n",
              "       'Romania, France, Switzerland, Germany',\n",
              "       'Bulgaria, United States, Spain, Canada', 'Sweden, Netherlands',\n",
              "       'Ghana', 'France, United States, Mexico',\n",
              "       'Australia, United Kingdom, United Arab Emirates, Canada',\n",
              "       'Singapore, United States', 'Japan, Canada, United States',\n",
              "       'Saudi Arabia',\n",
              "       'Australia, Armenia, Japan, Jordan, Mexico, Mongolia, New Zealand, Philippines, South Africa, Sweden, United States, Uruguay',\n",
              "       'United States, France', 'Norway, Denmark, Netherlands, Sweden',\n",
              "       'Namibia', 'Mexico, Finland', 'United States, Australia', 'Russia',\n",
              "       'Australia, Canada', 'United Kingdom, Ireland', 'Belgium, France',\n",
              "       'New Zealand', 'Uruguay, Spain, Mexico', 'South Korea, China',\n",
              "       'United States, Canada, Indonesia, United Kingdom, China, Singapore',\n",
              "       'India, Iran', 'United States, France, Japan',\n",
              "       'United Kingdom, France', 'Turkey, India', 'Philippines, Qatar',\n",
              "       'Vietnam', 'Ireland, Luxembourg, Belgium',\n",
              "       'Saudi Arabia, Syria, Egypt, Lebanon, Kuwait',\n",
              "       'Russia, United States', 'United Kingdom, Russia, United States',\n",
              "       'Argentina, Spain', 'Germany, Jordan, Netherlands',\n",
              "       'Hong Kong, China', 'Argentina, United States',\n",
              "       'France, Belgium, Spain', 'Germany, United States',\n",
              "       'Denmark, Sweden, Israel, United States',\n",
              "       'Ireland, United Kingdom', 'United States, Iceland',\n",
              "       'United Arab Emirates, United Kingdom, India', 'Sweden',\n",
              "       'Norway, Germany, Sweden', 'Finland, France', 'Denmark, Spain',\n",
              "       'United Kingdom, Russia',\n",
              "       'United States, United Kingdom, Australia',\n",
              "       'India, United Kingdom', 'United States, Canada, Ireland',\n",
              "       'Canada, United Kingdom',\n",
              "       'United States, Israel, Italy, South Africa',\n",
              "       'India, United States', 'United Kingdom, China',\n",
              "       'Indonesia, Singapore', 'Netherlands, Denmark, France, Germany',\n",
              "       'South Korea, Japan',\n",
              "       'Philippines, Canada, United Kingdom, United States',\n",
              "       'France, Malta, United States', 'Kuwait',\n",
              "       'United Kingdom, Pakistan', 'Ireland', 'France, New Zealand',\n",
              "       'United Kingdom, United States, Australia',\n",
              "       'United Kingdom, Czech Republic, United States, Germany, Bahamas',\n",
              "       'United States, Australia, China',\n",
              "       'China, Germany, India, United States', 'Germany, Sri Lanka',\n",
              "       'United States, Sweden', 'Canada, United States, Cayman Islands',\n",
              "       'India, France', 'United Kingdom, Canada',\n",
              "       'United States, India, Bangladesh',\n",
              "       'United States, Canada, France',\n",
              "       'Taiwan, China, France, United States', 'Brazil, France, Germany',\n",
              "       'United States,', 'Turkey, France, Germany, Poland',\n",
              "       'Australia, New Zealand, United States',\n",
              "       'Germany, United States, Hong Kong, Singapore',\n",
              "       'France, Germany, Switzerland', 'Mexico, Argentina',\n",
              "       'Italy, United States, Argentina',\n",
              "       'Germany, France, Luxembourg, United Kingdom, United States',\n",
              "       'Canada, United States, United Kingdom',\n",
              "       'United Kingdom, Canada, Italy', 'Czech Republic, France',\n",
              "       'Zimbabwe', 'United Kingdom, France, Germany, Spain',\n",
              "       'Taiwan, Hong Kong, United States, China', 'China, United States',\n",
              "       'Canada, Brazil', 'United Kingdom, Australia', 'Hungary',\n",
              "       'Germany, Australia', 'United Kingdom, Poland, United States',\n",
              "       'Bulgaria', 'Philippines, United States', 'Finland, Germany',\n",
              "       'United States, Thailand',\n",
              "       'Spain, Belgium, Switzerland, United States, China, United Kingdom',\n",
              "       'Denmark, Zimbabwe', 'United Kingdom, South Africa',\n",
              "       'Finland, Sweden, Norway, Latvia, Germany',\n",
              "       'United Kingdom, India',\n",
              "       'South Africa, United States, New Zealand, Canada',\n",
              "       'France, Qatar', 'France, Algeria',\n",
              "       'United States, Italy, United Kingdom, Liechtenstein',\n",
              "       'Denmark, France, Belgium, Italy, Netherlands, United States, United Kingdom',\n",
              "       'United States, Australia, Mexico',\n",
              "       'United Kingdom, Czech Republic, Germany, United States',\n",
              "       'Russia, Poland, Serbia', 'France, China, Japan, United States',\n",
              "       'United States, South Korea, China', 'Germany, Belgium',\n",
              "       'Chile, Argentina', 'China, United States, United Kingdom',\n",
              "       'Pakistan, Norway, United States',\n",
              "       'United Kingdom, Japan, United States', 'Philippines, Singapore',\n",
              "       'United States, Canada, Belgium, United Kingdom', 'Venezuela',\n",
              "       'Argentina, Uruguay, Serbia', 'United States, Mexico, Colombia',\n",
              "       'Colombia, Peru, United Kingdom', 'Brazil, United States',\n",
              "       'Czech Republic, United States',\n",
              "       'Canada, France, Italy, Morocco, United States',\n",
              "       'Canada, Spain, France', 'Hong Kong, United States',\n",
              "       'France, Canada, China, Cambodia', 'United States, Indonesia',\n",
              "       'Spain, France', 'Spain, Mexico, France', 'Spain, France, Italy',\n",
              "       'Spain, France, United States', 'United States, France, Canada',\n",
              "       'Israel', 'Italy, France', 'United Kingdom, Canada, United States',\n",
              "       'Cambodia, United States', 'China, Japan',\n",
              "       'United Arab Emirates, United States, United Kingdom',\n",
              "       'Argentina, Italy', 'United Kingdom, Israel, Russia',\n",
              "       'Italy, Switzerland, Albania, Poland', 'Spain, Cuba',\n",
              "       'United States, Brazil', 'United States, France, Mexico',\n",
              "       'United States, Nicaragua', 'Austria, Germany',\n",
              "       'United Arab Emirates, Jordan, Lebanon',\n",
              "       'France, United Kingdom, United States',\n",
              "       'United Kingdom, United States, Spain, Germany, Greece, Canada',\n",
              "       'France, Belgium, Luxembourg, Cambodia,', 'Italy, Turkey',\n",
              "       'Brazil, France', 'India, Turkey', 'Kenya, United States',\n",
              "       'United States, South Korea', 'South Korea, United States',\n",
              "       'Italy, Canada, France', 'Thailand, United States',\n",
              "       'United Kingdom, Denmark, Canada, Croatia', 'Netherlands, Belgium',\n",
              "       'United Kingdom, Canada, United States, Cayman Islands',\n",
              "       'Italy, Germany', 'United States, France, United Kingdom, Japan',\n",
              "       'United States, United Kingdom, Denmark, Sweden',\n",
              "       'United States, United Kingdom, Italy',\n",
              "       'United States, France, Canada, Spain', 'Uruguay, Guatemala',\n",
              "       'Germany, Australia, France, China',\n",
              "       'United States, United Kingdom, Japan',\n",
              "       'United States, United Kingdom, Canada',\n",
              "       'Italy, Switzerland, France, Germany',\n",
              "       'Russia, United States, China', 'United States, Canada, Germany',\n",
              "       'United States, Czech Republic', 'Ireland, United States',\n",
              "       'United States, United Arab Emirates',\n",
              "       'France, Australia, Germany', 'Hong Kong, China, United States',\n",
              "       'Lebanon, United Arab Emirates, France, Switzerland, Germany',\n",
              "       'United States, South Korea, Japan', 'Romania, United States',\n",
              "       'West Germany', 'United States, Ireland', 'Chile, Italy',\n",
              "       'Ireland, United Kingdom, Italy, United States', 'Belgium',\n",
              "       'Poland,', 'Slovenia, Croatia, Germany, Czech Republic, Qatar',\n",
              "       'Canada, United Kingdom, Netherlands',\n",
              "       'United Kingdom, United States, France',\n",
              "       'Indonesia, United Kingdom', 'United States, Spain, Germany',\n",
              "       'India, Japan', 'Switzerland, France, Belgium, United States',\n",
              "       'China, South Korea, United States',\n",
              "       'United Kingdom, France, Belgium',\n",
              "       'Canada, Ireland, United States',\n",
              "       'United Kingdom, United States, Dominican Republic',\n",
              "       'United States, Senegal', 'Germany, United Kingdom, United States',\n",
              "       'United States, Canada, United Kingdom',\n",
              "       'Canada, United States, France', 'United Kingdom, Germany, Canada',\n",
              "       'Argentina, France', 'South Africa, Germany, Netherlands, France',\n",
              "       'Canada, United States, United Kingdom, France, Luxembourg',\n",
              "       'Finland, Germany, Belgium',\n",
              "       'United States, United Kingdom, Germany', 'Taiwan, China',\n",
              "       'Cambodia', 'Spain, Portugal', 'Ireland, United States, France',\n",
              "       'Jordan', 'Austria', 'Germany, United States, Canada',\n",
              "       'United Kingdom, Germany, Canada, United States',\n",
              "       'United States, France, Canada, Lebanon, Qatar',\n",
              "       'Indonesia, Netherlands',\n",
              "       'Netherlands, Belgium, United Kingdom, United States',\n",
              "       'China, United States, Australia',\n",
              "       'France, Belgium, China, United States', 'Spain, United Kingdom',\n",
              "       'United States, Chile, Israel', 'Bangladesh',\n",
              "       'United Kingdom, Norway, Denmark, Germany, Sweden',\n",
              "       'United States, Japan, Canada', 'Norway, Denmark, Sweden',\n",
              "       'China, India, Nepal', 'United States, Argentina',\n",
              "       'Mexico, United States, Spain, Colombia',\n",
              "       'Colombia, Mexico, United States',\n",
              "       'United Kingdom, Belgium, Sweden', 'Nigeria, United Kingdom',\n",
              "       'United Kingdom, South Korea', 'United States, Taiwan',\n",
              "       'Netherlands, Belgium, Germany, Jordan', 'France, Canada',\n",
              "       'United Kingdom, France, United States',\n",
              "       'Denmark, Singapore, Canada, United States', 'Denmark, China',\n",
              "       'Malaysia, Singapore, Hong Kong', 'Norway, United States',\n",
              "       'United States, Philippines', 'United States, Greece, Brazil',\n",
              "       'France, United States', 'South Korea, France',\n",
              "       'United States, Australia, Samoa, United Kingdom',\n",
              "       'Canada, South Africa', 'United Kingdom, Italy',\n",
              "       'Germany, United Kingdom', 'China, United Kingdom',\n",
              "       'Argentina, Chile, Peru', 'United States, Russia',\n",
              "       'Uruguay, Germany', 'Turkey, Azerbaijan',\n",
              "       'United States, China, Hong Kong',\n",
              "       'Canada, Germany, France, United States',\n",
              "       'Argentina, United States, Mexico',\n",
              "       'France, United Kingdom, India', 'China, Taiwan',\n",
              "       'Italy, United Kingdom, France', 'Poland, West Germany',\n",
              "       'Germany, United States, Sweden', 'Canada, Spain',\n",
              "       'United Kingdom, France, Belgium, United States', 'France, Japan',\n",
              "       'Netherlands, Germany, Italy, Canada', 'United States, Cambodia',\n",
              "       'United States, Greece', 'United States, China, Colombia',\n",
              "       'United States, Spain, Italy',\n",
              "       'Norway, United Kingdom, France, Ireland',\n",
              "       'United States, Bermuda, Ecuador', 'United Kingdom, Poland',\n",
              "       'China, Canada, United States', 'United States, Spain',\n",
              "       'India, Mexico', 'United Kingdom, West Germany',\n",
              "       'Pakistan, United States', 'Israel, Sweden, Germany, Netherlands',\n",
              "       'Chile, United States, France', 'France, Morocco',\n",
              "       'United Kingdom, Germany', 'Georgia, Germany, France',\n",
              "       'Switzerland, France', 'Turkey, South Korea', 'Italy, India',\n",
              "       'United States, Botswana', 'United States, Colombia, Mexico',\n",
              "       'Chile, Argentina, France, Spain, United States',\n",
              "       'Puerto Rico, United States, Colombia', 'United States, Nigeria',\n",
              "       'Germany, United States, France',\n",
              "       'Spain, Germany, Denmark, United States',\n",
              "       'United Kingdom, United States, Japan',\n",
              "       'Netherlands, United States',\n",
              "       'United States, India, South Korea, China',\n",
              "       'Denmark, Germany, Belgium, United Kingdom, France',\n",
              "       'Denmark, Germany, Belgium, United Kingdom, France, Sweden',\n",
              "       'France, Switzerland, Spain, United States, United Arab Emirates',\n",
              "       'Norway, Sweden', 'United States, Ireland, United Kingdom, India',\n",
              "       'United Kingdom, Singapore', 'Spain, Germany',\n",
              "       'Germany, Czech Republic',\n",
              "       'Denmark, Brazil, France, Portugal, Sweden',\n",
              "       'Brazil, India, China, United States', 'India, Germany, Austria',\n",
              "       'Italy, United States', 'Denmark, France, United States, Sweden',\n",
              "       'Australia, Iraq', 'China, Morocco, Hong Kong', 'Spain, Colombia',\n",
              "       'Australia, United Arab Emirates',\n",
              "       'Canada, United States, Germany', 'France, Belgium, Italy',\n",
              "       'United Kingdom, Thailand', 'Venezuela, Colombia',\n",
              "       'France, Luxembourg, Canada', 'India, Nepal', 'Mexico, Spain',\n",
              "       'Colombia, United States', 'Colombia, Mexico',\n",
              "       'France, Germany, Czech Republic, Belgium',\n",
              "       'Germany, China, United Kingdom', 'Canada, Hungary, United States',\n",
              "       'Pakistan, United Arab Emirates', 'France, United Kingdom',\n",
              "       'Spain, United Kingdom, United States', 'United Kingdom, Kenya',\n",
              "       'United States, Norway, Canada', 'Canada, United States, Ireland',\n",
              "       'Switzerland, Vatican City, Italy, Germany, France',\n",
              "       'Portugal, France, Poland, United States',\n",
              "       'France, Japan, United States', 'United States, New Zealand',\n",
              "       'United States, New Zealand, Japan',\n",
              "       'United States, Netherlands, Japan, France', 'India, Switzerland',\n",
              "       'Canada, India', 'Canada, Japan, United States',\n",
              "       'United States, Morocco', 'United States, Mexico, Spain, Malta',\n",
              "       'Norway, Denmark', 'South Korea, Canada, United States, China',\n",
              "       'Singapore, Japan, France',\n",
              "       'Canada, Mexico, Germany, South Africa',\n",
              "       'United Kingdom, United States, Canada',\n",
              "       'Germany, France, United States, Canada, United Kingdom',\n",
              "       'Peru, Germany, Norway', 'Singapore, Malaysia',\n",
              "       'United States, Uruguay', 'India, Canada',\n",
              "       'Ireland, Canada, United Kingdom, United States',\n",
              "       'United States, Germany, Australia', 'Senegal',\n",
              "       'Israel, Germany, France', 'Australia, France, Ireland',\n",
              "       'South Africa, Angola', 'Austria, Czech Republic',\n",
              "       'Australia, India', 'United States, United Kingdom, Canada, Japan',\n",
              "       'Sweden, United Kingdom, Finland', 'Hong Kong, Taiwan',\n",
              "       'United States, United Kingdom, Spain, South Korea',\n",
              "       'South Korea, China, United States', 'Guatemala', 'Ukraine',\n",
              "       'United States, United Kingdom, Canada, China',\n",
              "       'Italy, South Africa, West Germany, Australia, United States',\n",
              "       'United Kingdom, Finland, Germany',\n",
              "       'South Africa, United States, Germany',\n",
              "       'United States, Germany, United Kingdom, Australia',\n",
              "       'India, Soviet Union', 'Italy, France, Switzerland',\n",
              "       'Canada, France, United States', 'United States, Colombia',\n",
              "       'India, Malaysia', 'Switzerland, United States',\n",
              "       'Thailand, Canada, United States',\n",
              "       'China, Hong Kong, United States', 'United Kingdom, New Zealand',\n",
              "       'United Kingdom, France, Germany, United States',\n",
              "       'South Korea, Czech Republic',\n",
              "       'Czech Republic, United Kingdom, France',\n",
              "       'Australia, United Kingdom, Canada',\n",
              "       'Canada, United Kingdom, United States', 'United States, Hungary',\n",
              "       'Jamaica, United States', 'Switzerland',\n",
              "       'Australia, United Kingdom, United States, New Zealand, Italy, France',\n",
              "       'France, United States, Canada', 'Australia, United Kingdom',\n",
              "       'United States, Denmark',\n",
              "       'United Kingdom, France, Canada, Belgium, United States',\n",
              "       'Denmark, United Kingdom, Sweden', 'Belarus', 'Cyprus',\n",
              "       'Lebanon, United States, United Arab Emirates',\n",
              "       'United States, Hong Kong', 'United States, Kazakhstan',\n",
              "       'Argentina, France, United States, Germany, Qatar',\n",
              "       'United States, Germany, United Kingdom',\n",
              "       'United States, Germany, United Kingdom, Italy',\n",
              "       'United States, New Zealand, United Kingdom',\n",
              "       'Finland, United States', 'Spain, France, Uruguay',\n",
              "       'France, Belgium, United States', 'France, Canada, United States',\n",
              "       'Spain, Argentina', 'United Kingdom, India, United States',\n",
              "       'Chile, France',\n",
              "       'United States, United Kingdom, France, Germany, Japan',\n",
              "       'Canada, Norway', 'United States, Hungary, Ireland, Canada',\n",
              "       'United States, Canada, China', 'United Kingdom, Malawi',\n",
              "       'Ireland, Canada, Luxembourg, United States, United Kingdom, Philippines, India',\n",
              "       'United States, Czech Republic, United Kingdom',\n",
              "       'Ghana, United States', 'Israel, Germany', 'Spain, Mexico',\n",
              "       'Mexico, France', 'Brazil, United Kingdom',\n",
              "       'France, Belgium, Luxembourg, Romania, Canada, United States',\n",
              "       'Israel, Germany, Poland, Luxembourg, Belgium, France, United States',\n",
              "       'France, Germany', 'United States, Malta, France, United Kingdom',\n",
              "       'United Kingdom, United States, Germany, Denmark, Belgium, Japan',\n",
              "       'Austria, United States', 'Canada, Australia',\n",
              "       'Greece, United States',\n",
              "       'United Kingdom, France, Belgium, Canada, United States',\n",
              "       'Argentina, Chile', 'Czech Republic, Slovakia',\n",
              "       'United Kingdom, Germany, United States, France',\n",
              "       'United Kingdom, Lithuania', 'Egypt, France',\n",
              "       'Spain, France, Canada', 'United States, Greece, United Kingdom',\n",
              "       'United Kingdom, China, United States, India', 'Taiwan, Malaysia',\n",
              "       'United States, Sweden, Norway',\n",
              "       'United Kingdom, United States, Morocco',\n",
              "       'United States, United Kingdom, Morocco',\n",
              "       'United States, China, Canada', 'Spain, Canada, United States',\n",
              "       'Canada, Belgium', 'United States, India, United Arab Emirates',\n",
              "       'United Kingdom, Canada, France, United States',\n",
              "       'Spain, Thailand, United States', 'Canada, Germany, South Africa',\n",
              "       'India, Germany, France',\n",
              "       'United States, Israel, United Kingdom, Canada',\n",
              "       'United Kingdom, Hungary, Australia', 'Lebanon, France',\n",
              "       'Belgium, Ireland, Netherlands, Germany, Afghanistan',\n",
              "       'Chile, Peru', 'Paraguay, Argentina',\n",
              "       'United Kingdom, Italy, Israel, Peru, United States',\n",
              "       'Norway, Germany', 'France, Canada, Italy, United States, China',\n",
              "       'Netherlands, Germany, Denmark, United Kingdom', 'France, Lebanon',\n",
              "       'Ireland, United Kingdom, Greece, France, Netherlands',\n",
              "       'Denmark, Indonesia, Finland, Norway, United Kingdom, Israel, France, United States, Germany, Netherlands',\n",
              "       'New Zealand, United States', 'Argentina, Uruguay, Spain, France',\n",
              "       'United Kingdom, Germany, United States',\n",
              "       'United States, Australia, South Africa, United Kingdom',\n",
              "       'Italy, Belgium', 'United States, Germany, Mexico',\n",
              "       'Chile, Spain, Argentina, Germany', 'Germany, Italy',\n",
              "       'United Kingdom, Nigeria',\n",
              "       'Belgium, United Kingdom, United States', 'Australia, New Zealand',\n",
              "       'Spain, Switzerland', 'Indonesia, United States',\n",
              "       'Canada, South Korea, United States',\n",
              "       'France, Iran, United States', 'Croatia',\n",
              "       'Somalia, Kenya, Sudan, South Africa, United States',\n",
              "       'Ireland, France, Iceland, United States, Mexico, Belgium, United Kingdom, Hong Kong',\n",
              "       'Spain, United States', 'United States, Canada, Japan, Panama',\n",
              "       'United Kingdom, Spain, Belgium', 'Serbia, South Korea, Slovenia',\n",
              "       'Denmark, United Kingdom, South Africa, Sweden, Belgium',\n",
              "       'Germany, Canada, United States', 'Ireland, South Africa',\n",
              "       'Canada, Germany', 'Spain, France, Canada, United States',\n",
              "       'India, United Kingdom, Canada, United States',\n",
              "       'United States, Belgium, Canada',\n",
              "       'United States, France, Canada, Belgium',\n",
              "       'United Kingdom, Egypt, United States',\n",
              "       'United Kingdom, Germany, United Arab Emirates, New Zealand',\n",
              "       'United Kingdom, France, United States, Belgium, Luxembourg, China, Germany',\n",
              "       'United Kingdom, Spain, United States, Germany',\n",
              "       'United States, France, Italy, United Kingdom', 'Georgia',\n",
              "       'United States, United Kingdom, India',\n",
              "       'Ireland, Canada, United States, United Kingdom',\n",
              "       'New Zealand, United Kingdom, Australia', 'United States, Poland',\n",
              "       'United Arab Emirates, Romania',\n",
              "       'United Kingdom, Australia, Canada, United States',\n",
              "       'Mexico, Netherlands', 'Spain, Italy, Argentina',\n",
              "       'Germany, United States, Italy', 'United States, Venezuela',\n",
              "       'United Kingdom, Canada, Japan', 'Canada, Japan, Netherlands',\n",
              "       'United Kingdom, United States, Czech Republic',\n",
              "       'United Kingdom, China, United States',\n",
              "       'United Kingdom, Brazil, Germany',\n",
              "       'Thailand, China, United States',\n",
              "       'United Kingdom, Namibia, South Africa, Zimbabwe, United States',\n",
              "       'United Kingdom, South Africa, Australia, United States',\n",
              "       'Canada, United States, India, United Kingdom',\n",
              "       'United States, Brazil, South Korea, Mexico, Japan, Germany',\n",
              "       'France, Lebanon, United Kingdom',\n",
              "       'United Kingdom, Jordan, Qatar, Iran',\n",
              "       'Switzerland, United Kingdom, United States',\n",
              "       'Belgium, Netherlands',\n",
              "       'United Kingdom, Germany, France, United States',\n",
              "       'Romania, United Kingdom', 'Lebanon, Qatar',\n",
              "       'United Kingdom, India, Sweden', 'United Kingdom, Belgium',\n",
              "       'India, Pakistan', 'United Kingdom,',\n",
              "       'Saudi Arabia, Netherlands, Germany, Jordan, United Arab Emirates, United States',\n",
              "       'France, Brazil, Spain, Belgium',\n",
              "       'United States, Brazil, India, Uganda, China',\n",
              "       'United Kingdom, Ireland, United States',\n",
              "       'Lebanon, Canada, France', 'India, Australia',\n",
              "       'Austria, Iraq, United States', 'France, Norway, Lebanon, Belgium',\n",
              "       'United Kingdom, France, United States, Belgium',\n",
              "       'Saudi Arabia, United Arab Emirates',\n",
              "       'Peru, United States, United Kingdom',\n",
              "       'Germany, United States, United Kingdom, Canada',\n",
              "       'Uruguay, Argentina, Germany, Spain',\n",
              "       'France, Luxembourg, United States', 'United Kingdom, Spain',\n",
              "       'Canada, India, Thailand, United States, United Arab Emirates',\n",
              "       'Romania, Bulgaria, Hungary',\n",
              "       'United States, East Germany, West Germany',\n",
              "       'France, Netherlands, South Africa, Finland',\n",
              "       'United Kingdom, Ukraine, United States',\n",
              "       'Egypt, Austria, United States', 'Russia, Spain',\n",
              "       'Croatia, Slovenia, Serbia, Montenegro', 'Japan, Canada',\n",
              "       'United States, France, South Korea, Indonesia',\n",
              "       'United Arab Emirates, Jordan',\n",
              "       'Sweden, Czech Republic, United Kingdom, Denmark, Netherlands'],\n",
              "      dtype=object)"
            ]
          },
          "metadata": {},
          "execution_count": 30
        }
      ]
    },
    {
      "cell_type": "code",
      "source": [
        "df['date_added'].unique()"
      ],
      "metadata": {
        "id": "kd2Vv03XOiUa",
        "colab": {
          "base_uri": "https://localhost:8080/"
        },
        "outputId": "8773764c-e15a-488d-ad11-1f4719958c67"
      },
      "execution_count": 31,
      "outputs": [
        {
          "output_type": "execute_result",
          "data": {
            "text/plain": [
              "array(['2020-08-14T00:00:00.000000000', '2016-12-23T00:00:00.000000000',\n",
              "       '2018-12-20T00:00:00.000000000', ...,\n",
              "       '2018-12-06T00:00:00.000000000', '2016-03-09T00:00:00.000000000',\n",
              "       '2020-01-11T00:00:00.000000000'], dtype='datetime64[ns]')"
            ]
          },
          "metadata": {},
          "execution_count": 31
        }
      ]
    },
    {
      "cell_type": "code",
      "source": [
        "df['release_year'].unique()"
      ],
      "metadata": {
        "id": "7eCa8dBTOiXc",
        "colab": {
          "base_uri": "https://localhost:8080/"
        },
        "outputId": "234bec83-7b1d-4962-b374-6c563c81dd78"
      },
      "execution_count": 32,
      "outputs": [
        {
          "output_type": "execute_result",
          "data": {
            "text/plain": [
              "array([2020, 2016, 2011, 2009, 2008, 2019, 1997, 2017, 2018, 2014, 2015,\n",
              "       2010, 2005, 2013, 2012, 2006, 2000, 2003, 1989, 2004, 1977, 1971,\n",
              "       1993, 2007, 1998, 1988, 1996, 2002, 1986, 1990, 1979, 1980, 1974,\n",
              "       2001, 1999, 1966, 1991, 1982, 1994, 1995, 1978, 1992, 1972, 1975,\n",
              "       2021, 1973, 1967, 1960, 1981, 1958, 1976, 1968, 1956, 1985, 1965,\n",
              "       1984, 1983, 1987, 1945, 1946, 1962, 1925, 1942, 1969, 1955, 1963,\n",
              "       1964, 1954, 1970, 1944, 1947, 1959, 1943])"
            ]
          },
          "metadata": {},
          "execution_count": 32
        }
      ]
    },
    {
      "cell_type": "code",
      "source": [
        "df['rating'].unique()"
      ],
      "metadata": {
        "id": "3lM9fpygOicC",
        "colab": {
          "base_uri": "https://localhost:8080/"
        },
        "outputId": "35a0791b-9356-41f9-d886-7a3fe97c8511"
      },
      "execution_count": 33,
      "outputs": [
        {
          "output_type": "execute_result",
          "data": {
            "text/plain": [
              "array(['TV-MA', 'R', 'PG-13', 'TV-14', 'TV-PG', 'NR', 'TV-G', 'TV-Y',\n",
              "       'TV-Y7', 'PG', 'G', 'NC-17', 'TV-Y7-FV', 'UR'], dtype=object)"
            ]
          },
          "metadata": {},
          "execution_count": 33
        }
      ]
    },
    {
      "cell_type": "code",
      "source": [
        "df['duration'].unique()"
      ],
      "metadata": {
        "id": "o0P5zTaoOine",
        "colab": {
          "base_uri": "https://localhost:8080/"
        },
        "outputId": "d39c13bc-6bfa-4915-ce6c-916f388234cd"
      },
      "execution_count": 34,
      "outputs": [
        {
          "output_type": "execute_result",
          "data": {
            "text/plain": [
              "array(['4 Seasons', '93 min', '78 min', '80 min', '123 min', '1 Season',\n",
              "       '95 min', '119 min', '118 min', '143 min', '103 min', '89 min',\n",
              "       '91 min', '149 min', '144 min', '124 min', '87 min', '110 min',\n",
              "       '128 min', '117 min', '100 min', '2 Seasons', '84 min', '99 min',\n",
              "       '90 min', '102 min', '104 min', '105 min', '56 min', '125 min',\n",
              "       '81 min', '97 min', '106 min', '107 min', '109 min', '44 min',\n",
              "       '75 min', '101 min', '3 Seasons', '37 min', '113 min', '114 min',\n",
              "       '130 min', '94 min', '140 min', '135 min', '82 min', '70 min',\n",
              "       '121 min', '92 min', '164 min', '53 min', '83 min', '116 min',\n",
              "       '86 min', '120 min', '96 min', '126 min', '129 min', '77 min',\n",
              "       '137 min', '148 min', '28 min', '122 min', '176 min', '85 min',\n",
              "       '22 min', '68 min', '111 min', '29 min', '142 min', '168 min',\n",
              "       '21 min', '59 min', '20 min', '98 min', '108 min', '76 min',\n",
              "       '26 min', '156 min', '30 min', '57 min', '150 min', '133 min',\n",
              "       '115 min', '154 min', '127 min', '146 min', '136 min', '88 min',\n",
              "       '131 min', '24 min', '112 min', '74 min', '63 min', '38 min',\n",
              "       '25 min', '174 min', '60 min', '153 min', '158 min', '151 min',\n",
              "       '162 min', '54 min', '51 min', '69 min', '64 min', '147 min',\n",
              "       '42 min', '79 min', '5 Seasons', '40 min', '45 min', '172 min',\n",
              "       '10 min', '163 min', '9 Seasons', '55 min', '72 min', '61 min',\n",
              "       '71 min', '160 min', '171 min', '48 min', '139 min', '157 min',\n",
              "       '15 min', '65 min', '134 min', '161 min', '62 min', '8 Seasons',\n",
              "       '186 min', '49 min', '73 min', '58 min', '165 min', '166 min',\n",
              "       '138 min', '159 min', '141 min', '132 min', '52 min', '67 min',\n",
              "       '34 min', '66 min', '312 min', '180 min', '47 min', '6 Seasons',\n",
              "       '155 min', '14 min', '177 min', '11 min', '9 min', '46 min',\n",
              "       '145 min', '11 Seasons', '7 Seasons', '13 Seasons', '8 min',\n",
              "       '12 min', '12 Seasons', '10 Seasons', '43 min', '50 min', '23 min',\n",
              "       '185 min', '200 min', '169 min', '27 min', '170 min', '196 min',\n",
              "       '33 min', '181 min', '204 min', '32 min', '35 min', '167 min',\n",
              "       '16 Seasons', '179 min', '193 min', '13 min', '214 min', '17 min',\n",
              "       '173 min', '192 min', '209 min', '187 min', '41 min', '182 min',\n",
              "       '224 min', '233 min', '189 min', '152 min', '19 min', '15 Seasons',\n",
              "       '208 min', '237 min', '31 min', '178 min', '230 min', '194 min',\n",
              "       '228 min', '195 min', '3 min', '16 min', '5 min', '18 min',\n",
              "       '205 min', '190 min', '36 min', '201 min', '253 min', '203 min',\n",
              "       '191 min'], dtype=object)"
            ]
          },
          "metadata": {},
          "execution_count": 34
        }
      ]
    },
    {
      "cell_type": "code",
      "source": [
        "df['genere'].unique()"
      ],
      "metadata": {
        "id": "iA-eQZP8PCg4",
        "colab": {
          "base_uri": "https://localhost:8080/"
        },
        "outputId": "e9fad954-08aa-4277-b85e-04bed60bfdc9"
      },
      "execution_count": 36,
      "outputs": [
        {
          "output_type": "execute_result",
          "data": {
            "text/plain": [
              "array(['International TV Shows', 'Dramas', 'Horror Movies',\n",
              "       'Action & Adventure', 'Crime TV Shows', 'Documentaries',\n",
              "       'Independent Movies', 'Comedies', 'Sports Movies', 'Anime Series',\n",
              "       'Reality TV', 'TV Comedies', 'Docuseries', 'Movies',\n",
              "       'British TV Shows', 'International Movies', 'Sci-Fi & Fantasy',\n",
              "       \"Kids' TV\", 'Children & Family Movies', 'TV Shows',\n",
              "       'Classic Movies', 'Thrillers', 'Stand-Up Comedy & Talk Shows',\n",
              "       'Stand-Up Comedy', 'Anime Features', 'Music & Musicals',\n",
              "       'TV Dramas', 'TV Horror', 'TV Action & Adventure',\n",
              "       'Classic & Cult TV', 'Romantic TV Shows', 'Cult Movies',\n",
              "       'TV Sci-Fi & Fantasy', 'Romantic Movies',\n",
              "       'Spanish-Language TV Shows', 'LGBTQ Movies'], dtype=object)"
            ]
          },
          "metadata": {},
          "execution_count": 36
        }
      ]
    },
    {
      "cell_type": "code",
      "source": [
        "df['description'].unique()"
      ],
      "metadata": {
        "id": "Yca_zHMHPCjx",
        "colab": {
          "base_uri": "https://localhost:8080/"
        },
        "outputId": "f8eb6fec-f152-48bb-c8b5-8a8703cfa6fc"
      },
      "execution_count": 37,
      "outputs": [
        {
          "output_type": "execute_result",
          "data": {
            "text/plain": [
              "array(['In a future where the elite inhabit an island paradise far from the crowded slums, you get one chance to join the 3% saved from squalor.',\n",
              "       'After a devastating earthquake hits Mexico City, trapped survivors from all walks of life wait to be rescued while trying desperately to stay alive.',\n",
              "       \"When an army recruit is found dead, his fellow soldiers are forced to confront a terrifying secret that's haunting their jungle island training camp.\",\n",
              "       ...,\n",
              "       \"In this documentary, South African rapper Nasty C hits the stage and streets of Tokyo, introducing himself to the city's sights, sounds and culture.\",\n",
              "       'Dessert wizard Adriano Zumbo looks for the next â\\x80\\x9cWilly Wonkaâ\\x80\\x9d in this tense competition that finds skilled amateurs competing for a $100,000 prize.',\n",
              "       'This documentary delves into the mystique behind the blues-rock trio and explores how the enigmatic band created their iconic look and sound.'],\n",
              "      dtype=object)"
            ]
          },
          "metadata": {},
          "execution_count": 37
        }
      ]
    },
    {
      "cell_type": "code",
      "source": [],
      "metadata": {
        "id": "iJiw8dudrsWa"
      },
      "execution_count": null,
      "outputs": []
    }
  ]
}