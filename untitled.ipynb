{
  "nbformat": 4,
  "nbformat_minor": 0,
  "metadata": {
    "colab": {
      "provenance": [],
      "collapsed_sections": [
        "35m5QtbWiB9F",
        "PoPl-ycgm1ru",
        "nA9Y7ga8ng1Z",
        "PBTbrJXOngz2",
        "u3PMJOP6ngxN",
        "bKJF3rekwFvQ",
        "MSa1f5Uengrz"
      ],
      "include_colab_link": true
    },
    "kernelspec": {
      "name": "python3",
      "display_name": "Python 3"
    },
    "language_info": {
      "name": "python"
    },
    "gpuClass": "standard"
  },
  "cells": [
    {
      "cell_type": "markdown",
      "metadata": {
        "id": "view-in-github",
        "colab_type": "text"
      },
      "source": [
        "<a href=\"https://colab.research.google.com/github/Samarjeet-singh-chhabra/NETFLIX_MOVIES_AND_TV_SHOWS_CLUSTERING/blob/main/untitled.ipynb\" target=\"_parent\"><img src=\"https://colab.research.google.com/assets/colab-badge.svg\" alt=\"Open In Colab\"/></a>"
      ]
    },
    {
      "cell_type": "markdown",
      "source": [
        "# **NETFLIX MOVIES AND TV SHOWS CLUSTERING**\n",
        "\n",
        "\n",
        "\n",
        "\n"
      ],
      "metadata": {
        "id": "vncDsAP0Gaoa"
      }
    },
    {
      "cell_type": "markdown",
      "source": [
        "This dataset consists of tv shows and movies available on Netflix as of 2019. The dataset is collected from Flixable which is a third-party Netflix search engine.\n",
        "In 2018, they released an interesting report which shows that the number of TV shows on Netflix has nearly tripled since 2010. The streaming service’s number of movies has decreased by more than 2,000 titles since 2010, while its number of TV shows has nearly tripled. It will be interesting to explore what all other insights can be obtained from the same dataset."
      ],
      "metadata": {
        "id": "I07UnD5mitM2"
      }
    },
    {
      "cell_type": "markdown",
      "source": [
        "##### **Project Type**    - Unsupervised ML\n"
      ],
      "metadata": {
        "id": "TeOoVzU8yeOo"
      }
    },
    {
      "cell_type": "markdown",
      "source": [
        "## **Team Spaceneedle**"
      ],
      "metadata": {
        "id": "pkl91xE7yg2J"
      }
    },
    {
      "cell_type": "markdown",
      "source": [
        "\n",
        "##### **Team Member 1 -**Devarshi Dwivedi\n",
        "##### **Team Member 2 -**Jay Pardeshi\n",
        "##### **Team Member 3 -**Priyadarshini Gaikwad\n",
        "##### **Team Member 4 -**Samarjeet Singh"
      ],
      "metadata": {
        "id": "beRrZCGUAJYm"
      }
    },
    {
      "cell_type": "markdown",
      "source": [
        "# **UNDERSTANDING BUSINESS PROBLEM**"
      ],
      "metadata": {
        "id": "5ziztuZTi8re"
      }
    },
    {
      "cell_type": "markdown",
      "source": [
        "The business problem at the heart of this unsupervised machine learning project is to gain insights into the trends and patterns of content on Netflix, and to use those insights to improve the user experience and drive business growth. The challenge for Netflix is to make sense of the vast amount of content in their library and to provide their users with a personalized and engaging viewing experience. By applying unsupervised machine learning techniques such as clustering to the dataset, the company can identify meaningful patterns and groupings within the data, which can then be used to inform decisions about content creation, marketing, and user interface design. For instance, Netflix can use these insights to promote new releases to users who have previously watched similar titles or to recommend content to users who have shown a preference for certain genres. Ultimately, by leveraging the power of unsupervised machine learning, Netflix can gain a deeper understanding of their content library and their users' preferences, and use this knowledge to drive business growth and customer satisfaction."
      ],
      "metadata": {
        "id": "lsaQ4xYtjBZa"
      }
    },
    {
      "cell_type": "markdown",
      "source": [
        "# **PROJECT SUMMARY**"
      ],
      "metadata": {
        "id": "FJNUwmbgGyua"
      }
    },
    {
      "cell_type": "markdown",
      "source": [
        "Netflix, Inc. is an American subscription video on-demand over-the-top streaming service and production company based in Los Gatos, California. Founded in 1997 by Reed Hastings and Marc Randolph in Scotts Valley, California, it offers a film and television series library through distribution deals as well as its own productions, known as Netflix Originals.\n",
        "\n",
        "For further details, visit [Netflix Help Center](https://help.netflix.com/en/node/412)\n",
        "\n",
        "We will be exploring the dataset further to draw insights."
      ],
      "metadata": {
        "id": "F6v_1wHtG2nS"
      }
    }
  ]
}